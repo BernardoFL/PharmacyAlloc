{
 "cells": [
  {
   "cell_type": "code",
   "execution_count": 1,
   "metadata": {},
   "outputs": [],
   "source": [
    "import numpy as np\n",
    "import matplotlib.pyplot as plt\n",
    "\n",
    "\n",
    "x = np.array([[0, 0, 0, 1, 1, 1, 1, 1, 0, 0, 0, 0, 0, 1, 1, 1, 1, 0, 0, 0, 0, 0,\n",
    "        0, 1, 1, 1],\n",
    "       [0, 0, 1, 1, 1, 1, 1, 1, 1, 1, 1, 1, 1, 1, 1, 1, 1, 1, 1, 1, 1, 1,\n",
    "        1, 1, 0, 0],\n",
    "       [0, 0, 0, 1, 1, 1, 1, 1, 0, 0, 0, 0, 0, 1, 1, 1, 1, 0, 0, 0, 0, 0,\n",
    "        0, 1, 1, 1],\n",
    "       [0, 0, 1, 1, 1, 1, 1, 1, 1, 1, 1, 1, 1, 1, 1, 1, 1, 1, 1, 1, 1, 1,\n",
    "        1, 1, 0, 0],\n",
    "       [0, 0, 0, 1, 1, 1, 1, 1, 0, 0, 0, 0, 0, 1, 1, 1, 1, 0, 0, 0, 0, 0,\n",
    "        0, 1, 1, 1],\n",
    "       [0, 0, 1, 1, 1, 1, 1, 1, 1, 1, 1, 1, 1, 1, 1, 1, 1, 1, 1, 1, 1, 1,\n",
    "        1, 1, 0, 0],\n",
    "       [0, 0, 0, 1, 1, 1, 1, 1, 0, 0, 0, 0, 0, 1, 1, 1, 1, 0, 0, 0, 0, 0,\n",
    "        0, 1, 1, 1],\n",
    "       [0, 0, 1, 1, 1, 1, 1, 1, 1, 1, 1, 1, 1, 1, 1, 1, 1, 1, 1, 1, 1, 1,\n",
    "        1, 1, 0, 0],\n",
    "       [0, 0, 0, 1, 1, 1, 1, 1, 0, 0, 0, 0, 0, 1, 1, 1, 1, 0, 0, 0, 0, 0,\n",
    "        0, 1, 1, 1],\n",
    "       [0, 0, 1, 1, 1, 1, 1, 1, 1, 1, 1, 1, 1, 1, 1, 1, 1, 1, 1, 1, 1, 1,\n",
    "        1, 1, 0, 0],\n",
    "       [0, 0, 0, 1, 1, 1, 1, 1, 0, 0, 0, 0, 0, 1, 1, 1, 1, 0, 0, 0, 0, 0,\n",
    "        0, 1, 1, 1],\n",
    "       [0, 0, 1, 1, 1, 1, 1, 1, 1, 1, 1, 1, 1, 1, 1, 1, 1, 1, 1, 1, 1, 1,\n",
    "        1, 1, 0, 0],\n",
    "       [0, 0, 0, 1, 1, 1, 1, 1, 0, 0, 0, 0, 0, 1, 1, 1, 1, 0, 0, 0, 0, 0,\n",
    "        0, 1, 1, 1],\n",
    "       [0, 0, 1, 1, 1, 1, 1, 1, 1, 1, 1, 1, 1, 1, 1, 1, 1, 1, 1, 1, 1, 1,\n",
    "        1, 1, 0, 0],\n",
    "       [0, 0, 0, 1, 1, 1, 1, 1, 0, 0, 0, 0, 0, 1, 1, 1, 1, 0, 0, 0, 0, 0,\n",
    "        0, 1, 1, 1],\n",
    "       [0, 0, 1, 1, 1, 1, 1, 1, 1, 1, 1, 1, 1, 1, 1, 1, 1, 1, 1, 1, 1, 1,\n",
    "        1, 1, 0, 0],\n",
    "       [0, 0, 0, 1, 1, 1, 1, 1, 0, 0, 0, 0, 0, 1, 1, 1, 1, 0, 0, 0, 0, 0,\n",
    "        0, 1, 1, 1],\n",
    "       [0, 0, 1, 1, 1, 1, 1, 1, 1, 1, 1, 1, 1, 1, 1, 1, 1, 1, 1, 1, 1, 1,\n",
    "        1, 1, 0, 0],\n",
    "       [0, 0, 0, 1, 1, 1, 1, 1, 0, 0, 0, 0, 0, 1, 1, 1, 1, 0, 0, 0, 0, 0,\n",
    "        0, 1, 1, 1],\n",
    "       [0, 0, 1, 1, 1, 1, 1, 1, 1, 1, 1, 1, 1, 1, 1, 1, 1, 1, 1, 1, 1, 1,\n",
    "        1, 1, 0, 0],\n",
    "       [0, 0, 0, 1, 1, 1, 1, 1, 0, 0, 0, 0, 0, 1, 1, 1, 1, 0, 0, 0, 0, 0,\n",
    "        0, 1, 1, 1],\n",
    "       [0, 0, 1, 1, 1, 1, 1, 1, 1, 1, 1, 1, 1, 1, 1, 1, 1, 1, 1, 1, 1, 1,\n",
    "        1, 1, 0, 0],\n",
    "       [0, 0, 0, 1, 1, 1, 1, 1, 0, 0, 0, 0, 0, 1, 1, 1, 1, 0, 0, 0, 0, 0,\n",
    "        0, 1, 1, 1],\n",
    "       [0, 0, 1, 1, 1, 1, 1, 1, 1, 1, 1, 1, 1, 1, 1, 1, 1, 1, 1, 1, 1, 1,\n",
    "        1, 1, 0, 0],\n",
    "       [0, 0, 0, 1, 1, 1, 1, 1, 0, 0, 0, 0, 0, 1, 1, 1, 1, 0, 0, 0, 0, 0,\n",
    "        0, 1, 1, 1],\n",
    "       [0, 0, 1, 1, 1, 0, 0, 0, 1, 1, 1, 1, 1, 1, 1, 1, 1, 1, 1, 1, 1, 1,\n",
    "        1, 1, 0, 0]])\n",
    "\n"
   ]
  },
  {
   "cell_type": "code",
   "execution_count": 9,
   "metadata": {},
   "outputs": [
    {
     "data": {
      "image/png": "[encoded data removed]",
      "text/plain": [
       "<Figure size 600x600 with 1 Axes>"
      ]
     },
     "metadata": {},
     "output_type": "display_data"
    }
   ],
   "source": [
    "def plot_tile(matrix):\n",
    "    plt.figure(figsize=(6,6))\n",
    "    plt.imshow(matrix, cmap='gray_r', interpolation='nearest')\n",
    "\n",
    "    ax = plt.gca()  # Get current axes\n",
    "    # Set minor ticks at cell boundaries\n",
    "    ax.set_xticks(np.arange(-0.5, matrix.shape[1], 1), minor=True)\n",
    "    ax.set_yticks(np.arange(-0.5, matrix.shape[0], 1), minor=True)\n",
    "    # Enable grid on minor ticks\n",
    "    ax.grid(which='minor', color='black', linestyle='-', linewidth=0.5)\n",
    "\n",
    "    plt.xticks([])  # Remove major x-axis ticks\n",
    "    plt.yticks([])  # Remove major y-axis ticks\n",
    "    plt.savefig(\"tile_plot.pdf\", dpi=300)\n",
    "    plt.show()\n",
    "\n",
    "plot_tile(x)"
   ]
  },
  {
   "cell_type": "code",
   "execution_count": 3,
   "metadata": {},
   "outputs": [
    {
     "data": {
      "image/png": "[encoded data removed]",
      "text/plain": [
       "<Figure size 600x600 with 1 Axes>"
      ]
     },
     "metadata": {},
     "output_type": "display_data"
    }
   ],
   "source": [
    "def random_flip_rows(matrix, flip_prob=0.1):\n",
    "    \"\"\"\n",
    "    For each row in the given binary matrix, flip contiguous blocks of values.\n",
    "    Each column has a chance (flip_prob) to start a block flip.\n",
    "    The block length is drawn from Binom(n_binom, p_binom) (with a minimum length of 1).\n",
    "    \n",
    "    Parameters:\n",
    "      matrix   : 2D numpy.ndarray with binary values (0 or 1)\n",
    "      flip_prob: probability of starting a flip at any column\n",
    "      n_binom, p_binom: parameters for the binomial distribution to generate block sizes\n",
    "      \n",
    "    Returns:\n",
    "      The modified matrix (in-place).\n",
    "    \"\"\"\n",
    "    for row in matrix:\n",
    "        i = 0\n",
    "        while i < row.size:\n",
    "            if np.random.rand() < flip_prob:\n",
    "                # Determine block size, ensure at least one cell is flipped\n",
    "                block_size = np.random.randint(2, 7)\n",
    "                if block_size == 0:\n",
    "                    block_size = 1\n",
    "                end = min(i + block_size, row.size)\n",
    "                # Flip binary values (0->1, 1->0)\n",
    "                row[i:end] = 1 - row[i:end]\n",
    "                i = end  # move ahead by block_size\n",
    "            else:\n",
    "                i += 1\n",
    "    return matrix\n",
    "\n",
    "# Create a flipped copy of x and show it\n",
    "np.random.seed(3553)\n",
    "x_flipped = random_flip_rows(x.copy(), flip_prob=0.2)\n",
    "plot_tile(x_flipped)\n"
   ]
  },
  {
   "cell_type": "code",
   "execution_count": 4,
   "metadata": {},
   "outputs": [
    {
     "data": {
      "image/png": "[encoded data removed]",
      "text/plain": [
       "<Figure size 600x600 with 1 Axes>"
      ]
     },
     "metadata": {},
     "output_type": "display_data"
    }
   ],
   "source": [
    "def random_flip_rows_first7(matrix, flip_prob=0.1):\n",
    "    \"\"\"\n",
    "    For each row in the given binary matrix, flip contiguous blocks of values,\n",
    "    but only for the first 7 columns.\n",
    "    \n",
    "    Parameters:\n",
    "      matrix   : 2D numpy.ndarray with binary values (0 or 1)\n",
    "      flip_prob: probability of starting a flip at any of the first 7 columns\n",
    "      \n",
    "    Returns:\n",
    "      The modified matrix (in-place modification).\n",
    "    \"\"\"\n",
    "    for row in matrix:\n",
    "        i = 0\n",
    "        # only operate on the first 7 columns\n",
    "        while i < 7:\n",
    "            if np.random.rand() < flip_prob:\n",
    "                # choose a block size that fits within columns 0 to 6\n",
    "                block_size = np.random.randint(1, 7 - i + 1)\n",
    "                end = i + block_size\n",
    "                row[i:end] = 1 - row[i:end]\n",
    "                i = end\n",
    "            else:\n",
    "                i += 1\n",
    "    return matrix\n",
    "\n",
    "# Apply the flipping function only on the first 7 columns of a copy of x\n",
    "np.random.seed(3253)\n",
    "x_flipped_first7 = random_flip_rows_first7(x_flipped.copy(), flip_prob=0.4)\n",
    "plot_tile(x_flipped_first7)"
   ]
  },
  {
   "cell_type": "code",
   "execution_count": 10,
   "metadata": {},
   "outputs": [
    {
     "data": {
      "image/png": "[encoded data removed]",
      "text/plain": [
       "<Figure size 600x600 with 1 Axes>"
      ]
     },
     "metadata": {},
     "output_type": "display_data"
    }
   ],
   "source": [
    "plot_tile(x_flipped_first7)\n",
    "\n",
    "\n"
   ]
  },
  {
   "cell_type": "code",
   "execution_count": 22,
   "metadata": {},
   "outputs": [
    {
     "name": "stderr",
     "output_type": "stream",
     "text": [
      "/var/folders/x3/5f75w2016_j47k2tz2jty9zr0000gn/T/ipykernel_29416/4282820922.py:23: RuntimeWarning:\n",
      "\n",
      "invalid value encountered in multiply\n",
      "\n"
     ]
    },
    {
     "data": {
      "application/vnd.plotly.v1+json": {
       "config": {
        "plotlyServerURL": "https://plot.ly"
       },
       "data": [
        {
         "cmax": 17.536927837859377,
         "cmin": -20.60862769364634,
         "colorscale": [
          [
           0,
           "red"
          ],
          [
           0.5,
           "white"
          ],
          [
           1,
           "blue"
          ]
         ],
         "opacity": 1,
         "showscale": false,
         "type": "surface",
         "x": {
          "bdata": "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",
          "dtype": "f8",
          "shape": "51, 51"
         },
         "y": {
          "bdata": "AAAAAAAAAAAAAAAAAAAAAAAAAAAAAAAAAAAAAAAAAAAAAAAAAAAAAAAAAAAAAAAAAAAAAAAAAAAAAAAAAAAAAAAAAAAAAAAAAAAAAAAAAAAAAAAAAAAAAAAAAAAAAAAAAAAAAAAAAAAAAAAAAAAAAAAAAAAAAAAAAAAAAAAAAAAAAAAAAAAAAAAAAAAAAAAAAAAAAAAAAAAAAAAAAAAAAAAAAAAAAAAAAAAAAAAAAAAAAAAAAAAAAAAAAAAAAAAAAAAAAAAAAAAAAAAAAAAAAAAAAAAAAAAAAAAAAAAAAAAAAAAAAAAAAAAAAAAAAAAAAAAAAAAAAAAAAAAAAAAAAAAAAAAAAAAAAAAAAAAAAAAAAAAAAAAAAAAAAAAAAAAAAAAAAAAAAAAAAAAAAAAAAAAAAAAAAAAAAAAAAAAAAAAAAAAAAAAAAAAAAAAAAAAAAAAAAAAAAAAAAAAAAAAAAAAAAAAAAAAAAAAAAAAAAAAAAAAAAAAAAAAAAAAAAAAAAAAAAAAAAAAAAAAAAAAAAAAAAAAAAAAAexSuR+F6lD97FK5H4XqUP3sUrkfhepQ/exSuR+F6lD97FK5H4XqUP3sUrkfhepQ/exSuR+F6lD97FK5H4XqUP3sUrkfhepQ/exSuR+F6lD97FK5H4XqUP3sUrkfhepQ/exSuR+F6lD97FK5H4XqUP3sUrkfhepQ/exSuR+F6lD97FK5H4XqUP3sUrkfhepQ/exSuR+F6lD97FK5H4XqUP3sUrkfhepQ/exSuR+F6lD97FK5H4XqUP3sUrkfhepQ/exSuR+F6lD97FK5H4XqUP3sUrkfhepQ/exSuR+F6lD97FK5H4XqUP3sUrkfhepQ/exSuR+F6lD97FK5H4XqUP3sUrkfhepQ/exSuR+F6lD97FK5H4XqUP3sUrkfhepQ/exSuR+F6lD97FK5H4XqUP3sUrkfhepQ/exSuR+F6lD97FK5H4XqUP3sUrkfhepQ/exSuR+F6lD97FK5H4XqUP3sUrkfhepQ/exSuR+F6lD97FK5H4XqUP3sUrkfhepQ/exSuR+F6lD97FK5H4XqUP3sUrkfhepQ/exSuR+F6pD97FK5H4XqkP3sUrkfheqQ/exSuR+F6pD97FK5H4XqkP3sUrkfheqQ/exSuR+F6pD97FK5H4XqkP3sUrkfheqQ/exSuR+F6pD97FK5H4XqkP3sUrkfheqQ/exSuR+F6pD97FK5H4XqkP3sUrkfheqQ/exSuR+F6pD97FK5H4XqkP3sUrkfheqQ/exSuR+F6pD97FK5H4XqkP3sUrkfheqQ/exSuR+F6pD97FK5H4XqkP3sUrkfheqQ/exSuR+F6pD97FK5H4XqkP3sUrkfheqQ/exSuR+F6pD97FK5H4XqkP3sUrkfheqQ/exSuR+F6pD97FK5H4XqkP3sUrkfheqQ/exSuR+F6pD97FK5H4XqkP3sUrkfheqQ/exSuR+F6pD97FK5H4XqkP3sUrkfheqQ/exSuR+F6pD97FK5H4XqkP3sUrkfheqQ/exSuR+F6pD97FK5H4XqkP3sUrkfheqQ/exSuR+F6pD97FK5H4XqkP3sUrkfheqQ/exSuR+F6pD97FK5H4XqkP3sUrkfheqQ/uB6F61G4rj+4HoXrUbiuP7gehetRuK4/uB6F61G4rj+4HoXrUbiuP7gehetRuK4/uB6F61G4rj+4HoXrUbiuP7gehetRuK4/uB6F61G4rj+4HoXrUbiuP7gehetRuK4/uB6F61G4rj+4HoXrUbiuP7gehetRuK4/uB6F61G4rj+4HoXrUbiuP7gehetRuK4/uB6F61G4rj+4HoXrUbiuP7gehetRuK4/uB6F61G4rj+4HoXrUbiuP7gehetRuK4/uB6F61G4rj+4HoXrUbiuP7gehetRuK4/uB6F61G4rj+4HoXrUbiuP7gehetRuK4/uB6F61G4rj+4HoXrUbiuP7gehetRuK4/uB6F61G4rj+4HoXrUbiuP7gehetRuK4/uB6F61G4rj+4HoXrUbiuP7gehetRuK4/uB6F61G4rj+4HoXrUbiuP7gehetRuK4/uB6F61G4rj+4HoXrUbiuP7gehetRuK4/uB6F61G4rj+4HoXrUbiuP7gehetRuK4/uB6F61G4rj+4HoXrUbiuP7gehetRuK4/exSuR+F6tD97FK5H4Xq0P3sUrkfherQ/exSuR+F6tD97FK5H4Xq0P3sUrkfherQ/exSuR+F6tD97FK5H4Xq0P3sUrkfherQ/exSuR+F6tD97FK5H4Xq0P3sUrkfherQ/exSuR+F6tD97FK5H4Xq0P3sUrkfherQ/exSuR+F6tD97FK5H4Xq0P3sUrkfherQ/exSuR+F6tD97FK5H4Xq0P3sUrkfherQ/exSuR+F6tD97FK5H4Xq0P3sUrkfherQ/exSuR+F6tD97FK5H4Xq0P3sUrkfherQ/exSuR+F6tD97FK5H4Xq0P3sUrkfherQ/exSuR+F6tD97FK5H4Xq0P3sUrkfherQ/exSuR+F6tD97FK5H4Xq0P3sUrkfherQ/exSuR+F6tD97FK5H4Xq0P3sUrkfherQ/exSuR+F6tD97FK5H4Xq0P3sUrkfherQ/exSuR+F6tD97FK5H4Xq0P3sUrkfherQ/exSuR+F6tD97FK5H4Xq0P3sUrkfherQ/exSuR+F6tD97FK5H4Xq0P3sUrkfherQ/mpmZmZmZuT+amZmZmZm5P5qZmZmZmbk/mpmZmZmZuT+amZmZmZm5P5qZmZmZmbk/mpmZmZmZuT+amZmZmZm5P5qZmZmZmbk/mpmZmZmZuT+amZmZmZm5P5qZmZmZmbk/mpmZmZmZuT+amZmZmZm5P5qZmZmZmbk/mpmZmZmZuT+amZmZmZm5P5qZmZmZmbk/mpmZmZmZuT+amZmZmZm5P5qZmZmZmbk/mpmZmZmZuT+amZmZmZm5P5qZmZmZmbk/mpmZmZmZuT+amZmZmZm5P5qZmZmZmbk/mpmZmZmZuT+amZmZmZm5P5qZmZmZmbk/mpmZmZmZuT+amZmZmZm5P5qZmZmZmbk/mpmZmZmZuT+amZmZmZm5P5qZmZmZmbk/mpmZmZmZuT+amZmZmZm5P5qZmZmZmbk/mpmZmZmZuT+amZmZmZm5P5qZmZmZmbk/mpmZmZmZuT+amZmZmZm5P5qZmZmZmbk/mpmZmZmZuT+amZmZmZm5P5qZmZmZmbk/mpmZmZmZuT+amZmZmZm5P5qZmZmZmbk/uB6F61G4vj+4HoXrUbi+P7gehetRuL4/uB6F61G4vj+4HoXrUbi+P7gehetRuL4/uB6F61G4vj+4HoXrUbi+P7gehetRuL4/uB6F61G4vj+4HoXrUbi+P7gehetRuL4/uB6F61G4vj+4HoXrUbi+P7gehetRuL4/uB6F61G4vj+4HoXrUbi+P7gehetRuL4/uB6F61G4vj+4HoXrUbi+P7gehetRuL4/uB6F61G4vj+4HoXrUbi+P7gehetRuL4/uB6F61G4vj+4HoXrUbi+P7gehetRuL4/uB6F61G4vj+4HoXrUbi+P7gehetRuL4/uB6F61G4vj+4HoXrUbi+P7gehetRuL4/uB6F61G4vj+4HoXrUbi+P7gehetRuL4/uB6F61G4vj+4HoXrUbi+P7gehetRuL4/uB6F61G4vj+4HoXrUbi+P7gehetRuL4/uB6F61G4vj+4HoXrUbi+P7gehetRuL4/uB6F61G4vj+4HoXrUbi+P7gehetRuL4/uB6F61G4vj+4HoXrUbi+P7gehetRuL4/7FG4HoXrwT/sUbgehevBP+xRuB6F68E/7FG4HoXrwT/sUbgehevBP+xRuB6F68E/7FG4HoXrwT/sUbgehevBP+xRuB6F68E/7FG4HoXrwT/sUbgehevBP+xRuB6F68E/7FG4HoXrwT/sUbgehevBP+xRuB6F68E/7FG4HoXrwT/sUbgehevBP+xRuB6F68E/7FG4HoXrwT/sUbgehevBP+xRuB6F68E/7FG4HoXrwT/sUbgehevBP+xRuB6F68E/7FG4HoXrwT/sUbgehevBP+xRuB6F68E/7FG4HoXrwT/sUbgehevBP+xRuB6F68E/7FG4HoXrwT/sUbgehevBP+xRuB6F68E/7FG4HoXrwT/sUbgehevBP+xRuB6F68E/7FG4HoXrwT/sUbgehevBP+xRuB6F68E/7FG4HoXrwT/sUbgehevBP+xRuB6F68E/7FG4HoXrwT/sUbgehevBP+xRuB6F68E/7FG4HoXrwT/sUbgehevBP+xRuB6F68E/7FG4HoXrwT/sUbgehevBP+xRuB6F68E/exSuR+F6xD97FK5H4XrEP3sUrkfhesQ/exSuR+F6xD97FK5H4XrEP3sUrkfhesQ/exSuR+F6xD97FK5H4XrEP3sUrkfhesQ/exSuR+F6xD97FK5H4XrEP3sUrkfhesQ/exSuR+F6xD97FK5H4XrEP3sUrkfhesQ/exSuR+F6xD97FK5H4XrEP3sUrkfhesQ/exSuR+F6xD97FK5H4XrEP3sUrkfhesQ/exSuR+F6xD97FK5H4XrEP3sUrkfhesQ/exSuR+F6xD97FK5H4XrEP3sUrkfhesQ/exSuR+F6xD97FK5H4XrEP3sUrkfhesQ/exSuR+F6xD97FK5H4XrEP3sUrkfhesQ/exSuR+F6xD97FK5H4XrEP3sUrkfhesQ/exSuR+F6xD97FK5H4XrEP3sUrkfhesQ/exSuR+F6xD97FK5H4XrEP3sUrkfhesQ/exSuR+F6xD97FK5H4XrEP3sUrkfhesQ/exSuR+F6xD97FK5H4XrEP3sUrkfhesQ/exSuR+F6xD97FK5H4XrEP3sUrkfhesQ/CtejcD0Kxz8K16NwPQrHPwrXo3A9Csc/CtejcD0Kxz8K16NwPQrHPwrXo3A9Csc/CtejcD0Kxz8K16NwPQrHPwrXo3A9Csc/CtejcD0Kxz8K16NwPQrHPwrXo3A9Csc/CtejcD0Kxz8K16NwPQrHPwrXo3A9Csc/CtejcD0Kxz8K16NwPQrHPwrXo3A9Csc/CtejcD0Kxz8K16NwPQrHPwrXo3A9Csc/CtejcD0Kxz8K16NwPQrHPwrXo3A9Csc/CtejcD0Kxz8K16NwPQrHPwrXo3A9Csc/CtejcD0Kxz8K16NwPQrHPwrXo3A9Csc/CtejcD0Kxz8K16NwPQrHPwrXo3A9Csc/CtejcD0Kxz8K16NwPQrHPwrXo3A9Csc/CtejcD0Kxz8K16NwPQrHPwrXo3A9Csc/CtejcD0Kxz8K16NwPQrHPwrXo3A9Csc/CtejcD0Kxz8K16NwPQrHPwrXo3A9Csc/CtejcD0Kxz8K16NwPQrHPwrXo3A9Csc/CtejcD0Kxz8K16NwPQrHPwrXo3A9Csc/mpmZmZmZyT+amZmZmZnJP5qZmZmZmck/mpmZmZmZyT+amZmZmZnJP5qZmZmZmck/mpmZmZmZyT+amZmZmZnJP5qZmZmZmck/mpmZmZmZyT+amZmZmZnJP5qZmZmZmck/mpmZmZmZyT+amZmZmZnJP5qZmZmZmck/mpmZmZmZyT+amZmZmZnJP5qZmZmZmck/mpmZmZmZyT+amZmZmZnJP5qZmZmZmck/mpmZmZmZyT+amZmZmZnJP5qZmZmZmck/mpmZmZmZyT+amZmZmZnJP5qZmZmZmck/mpmZmZmZyT+amZmZmZnJP5qZmZmZmck/mpmZmZmZyT+amZmZmZnJP5qZmZmZmck/mpmZmZmZyT+amZmZmZnJP5qZmZmZmck/mpmZmZmZyT+amZmZmZnJP5qZmZmZmck/mpmZmZmZyT+amZmZmZnJP5qZmZmZmck/mpmZmZmZyT+amZmZmZnJP5qZmZmZmck/mpmZmZmZyT+amZmZmZnJP5qZmZmZmck/mpmZmZmZyT+amZmZmZnJP5qZmZmZmck/KVyPwvUozD8pXI/C9SjMPylcj8L1KMw/KVyPwvUozD8pXI/C9SjMPylcj8L1KMw/KVyPwvUozD8pXI/C9SjMPylcj8L1KMw/KVyPwvUozD8pXI/C9SjMPylcj8L1KMw/KVyPwvUozD8pXI/C9SjMPylcj8L1KMw/KVyPwvUozD8pXI/C9SjMPylcj8L1KMw/KVyPwvUozD8pXI/C9SjMPylcj8L1KMw/KVyPwvUozD8pXI/C9SjMPylcj8L1KMw/KVyPwvUozD8pXI/C9SjMPylcj8L1KMw/KVyPwvUozD8pXI/C9SjMPylcj8L1KMw/KVyPwvUozD8pXI/C9SjMPylcj8L1KMw/KVyPwvUozD8pXI/C9SjMPylcj8L1KMw/KVyPwvUozD8pXI/C9SjMPylcj8L1KMw/KVyPwvUozD8pXI/C9SjMPylcj8L1KMw/KVyPwvUozD8pXI/C9SjMPylcj8L1KMw/KVyPwvUozD8pXI/C9SjMPylcj8L1KMw/KVyPwvUozD8pXI/C9SjMPylcj8L1KMw/uB6F61G4zj+4HoXrUbjOP7gehetRuM4/uB6F61G4zj+4HoXrUbjOP7gehetRuM4/uB6F61G4zj+4HoXrUbjOP7gehetRuM4/uB6F61G4zj+4HoXrUbjOP7gehetRuM4/uB6F61G4zj+4HoXrUbjOP7gehetRuM4/uB6F61G4zj+4HoXrUbjOP7gehetRuM4/uB6F61G4zj+4HoXrUbjOP7gehetRuM4/uB6F61G4zj+4HoXrUbjOP7gehetRuM4/uB6F61G4zj+4HoXrUbjOP7gehetRuM4/uB6F61G4zj+4HoXrUbjOP7gehetRuM4/uB6F61G4zj+4HoXrUbjOP7gehetRuM4/uB6F61G4zj+4HoXrUbjOP7gehetRuM4/uB6F61G4zj+4HoXrUbjOP7gehetRuM4/uB6F61G4zj+4HoXrUbjOP7gehetRuM4/uB6F61G4zj+4HoXrUbjOP7gehetRuM4/uB6F61G4zj+4HoXrUbjOP7gehetRuM4/uB6F61G4zj+4HoXrUbjOP7gehetRuM4/pHA9Ctej0D+kcD0K16PQP6RwPQrXo9A/pHA9Ctej0D+kcD0K16PQP6RwPQrXo9A/pHA9Ctej0D+kcD0K16PQP6RwPQrXo9A/pHA9Ctej0D+kcD0K16PQP6RwPQrXo9A/pHA9Ctej0D+kcD0K16PQP6RwPQrXo9A/pHA9Ctej0D+kcD0K16PQP6RwPQrXo9A/pHA9Ctej0D+kcD0K16PQP6RwPQrXo9A/pHA9Ctej0D+kcD0K16PQP6RwPQrXo9A/pHA9Ctej0D+kcD0K16PQP6RwPQrXo9A/pHA9Ctej0D+kcD0K16PQP6RwPQrXo9A/pHA9Ctej0D+kcD0K16PQP6RwPQrXo9A/pHA9Ctej0D+kcD0K16PQP6RwPQrXo9A/pHA9Ctej0D+kcD0K16PQP6RwPQrXo9A/pHA9Ctej0D+kcD0K16PQP6RwPQrXo9A/pHA9Ctej0D+kcD0K16PQP6RwPQrXo9A/pHA9Ctej0D+kcD0K16PQP6RwPQrXo9A/pHA9Ctej0D+kcD0K16PQP6RwPQrXo9A/7FG4HoXr0T/sUbgehevRP+xRuB6F69E/7FG4HoXr0T/sUbgehevRP+xRuB6F69E/7FG4HoXr0T/sUbgehevRP+xRuB6F69E/7FG4HoXr0T/sUbgehevRP+xRuB6F69E/7FG4HoXr0T/sUbgehevRP+xRuB6F69E/7FG4HoXr0T/sUbgehevRP+xRuB6F69E/7FG4HoXr0T/sUbgehevRP+xRuB6F69E/7FG4HoXr0T/sUbgehevRP+xRuB6F69E/7FG4HoXr0T/sUbgehevRP+xRuB6F69E/7FG4HoXr0T/sUbgehevRP+xRuB6F69E/7FG4HoXr0T/sUbgehevRP+xRuB6F69E/7FG4HoXr0T/sUbgehevRP+xRuB6F69E/7FG4HoXr0T/sUbgehevRP+xRuB6F69E/7FG4HoXr0T/sUbgehevRP+xRuB6F69E/7FG4HoXr0T/sUbgehevRP+xRuB6F69E/7FG4HoXr0T/sUbgehevRP+xRuB6F69E/7FG4HoXr0T/sUbgehevRP+xRuB6F69E/MzMzMzMz0z8zMzMzMzPTPzMzMzMzM9M/MzMzMzMz0z8zMzMzMzPTPzMzMzMzM9M/MzMzMzMz0z8zMzMzMzPTPzMzMzMzM9M/MzMzMzMz0z8zMzMzMzPTPzMzMzMzM9M/MzMzMzMz0z8zMzMzMzPTPzMzMzMzM9M/MzMzMzMz0z8zMzMzMzPTPzMzMzMzM9M/MzMzMzMz0z8zMzMzMzPTPzMzMzMzM9M/MzMzMzMz0z8zMzMzMzPTPzMzMzMzM9M/MzMzMzMz0z8zMzMzMzPTPzMzMzMzM9M/MzMzMzMz0z8zMzMzMzPTPzMzMzMzM9M/MzMzMzMz0z8zMzMzMzPTPzMzMzMzM9M/MzMzMzMz0z8zMzMzMzPTPzMzMzMzM9M/MzMzMzMz0z8zMzMzMzPTPzMzMzMzM9M/MzMzMzMz0z8zMzMzMzPTPzMzMzMzM9M/MzMzMzMz0z8zMzMzMzPTPzMzMzMzM9M/MzMzMzMz0z8zMzMzMzPTPzMzMzMzM9M/MzMzMzMz0z8zMzMzMzPTPzMzMzMzM9M/exSuR+F61D97FK5H4XrUP3sUrkfhetQ/exSuR+F61D97FK5H4XrUP3sUrkfhetQ/exSuR+F61D97FK5H4XrUP3sUrkfhetQ/exSuR+F61D97FK5H4XrUP3sUrkfhetQ/exSuR+F61D97FK5H4XrUP3sUrkfhetQ/exSuR+F61D97FK5H4XrUP3sUrkfhetQ/exSuR+F61D97FK5H4XrUP3sUrkfhetQ/exSuR+F61D97FK5H4XrUP3sUrkfhetQ/exSuR+F61D97FK5H4XrUP3sUrkfhetQ/exSuR+F61D97FK5H4XrUP3sUrkfhetQ/exSuR+F61D97FK5H4XrUP3sUrkfhetQ/exSuR+F61D97FK5H4XrUP3sUrkfhetQ/exSuR+F61D97FK5H4XrUP3sUrkfhetQ/exSuR+F61D97FK5H4XrUP3sUrkfhetQ/exSuR+F61D97FK5H4XrUP3sUrkfhetQ/exSuR+F61D97FK5H4XrUP3sUrkfhetQ/exSuR+F61D97FK5H4XrUP3sUrkfhetQ/w/UoXI/C1T/D9Shcj8LVP8P1KFyPwtU/w/UoXI/C1T/D9Shcj8LVP8P1KFyPwtU/w/UoXI/C1T/D9Shcj8LVP8P1KFyPwtU/w/UoXI/C1T/D9Shcj8LVP8P1KFyPwtU/w/UoXI/C1T/D9Shcj8LVP8P1KFyPwtU/w/UoXI/C1T/D9Shcj8LVP8P1KFyPwtU/w/UoXI/C1T/D9Shcj8LVP8P1KFyPwtU/w/UoXI/C1T/D9Shcj8LVP8P1KFyPwtU/w/UoXI/C1T/D9Shcj8LVP8P1KFyPwtU/w/UoXI/C1T/D9Shcj8LVP8P1KFyPwtU/w/UoXI/C1T/D9Shcj8LVP8P1KFyPwtU/w/UoXI/C1T/D9Shcj8LVP8P1KFyPwtU/w/UoXI/C1T/D9Shcj8LVP8P1KFyPwtU/w/UoXI/C1T/D9Shcj8LVP8P1KFyPwtU/w/UoXI/C1T/D9Shcj8LVP8P1KFyPwtU/w/UoXI/C1T/D9Shcj8LVP8P1KFyPwtU/w/UoXI/C1T/D9Shcj8LVP8P1KFyPwtU/CtejcD0K1z8K16NwPQrXPwrXo3A9Ctc/CtejcD0K1z8K16NwPQrXPwrXo3A9Ctc/CtejcD0K1z8K16NwPQrXPwrXo3A9Ctc/CtejcD0K1z8K16NwPQrXPwrXo3A9Ctc/CtejcD0K1z8K16NwPQrXPwrXo3A9Ctc/CtejcD0K1z8K16NwPQrXPwrXo3A9Ctc/CtejcD0K1z8K16NwPQrXPwrXo3A9Ctc/CtejcD0K1z8K16NwPQrXPwrXo3A9Ctc/CtejcD0K1z8K16NwPQrXPwrXo3A9Ctc/CtejcD0K1z8K16NwPQrXPwrXo3A9Ctc/CtejcD0K1z8K16NwPQrXPwrXo3A9Ctc/CtejcD0K1z8K16NwPQrXPwrXo3A9Ctc/CtejcD0K1z8K16NwPQrXPwrXo3A9Ctc/CtejcD0K1z8K16NwPQrXPwrXo3A9Ctc/CtejcD0K1z8K16NwPQrXPwrXo3A9Ctc/CtejcD0K1z8K16NwPQrXPwrXo3A9Ctc/CtejcD0K1z8K16NwPQrXPwrXo3A9Ctc/UrgehetR2D9SuB6F61HYP1K4HoXrUdg/UrgehetR2D9SuB6F61HYP1K4HoXrUdg/UrgehetR2D9SuB6F61HYP1K4HoXrUdg/UrgehetR2D9SuB6F61HYP1K4HoXrUdg/UrgehetR2D9SuB6F61HYP1K4HoXrUdg/UrgehetR2D9SuB6F61HYP1K4HoXrUdg/UrgehetR2D9SuB6F61HYP1K4HoXrUdg/UrgehetR2D9SuB6F61HYP1K4HoXrUdg/UrgehetR2D9SuB6F61HYP1K4HoXrUdg/UrgehetR2D9SuB6F61HYP1K4HoXrUdg/UrgehetR2D9SuB6F61HYP1K4HoXrUdg/UrgehetR2D9SuB6F61HYP1K4HoXrUdg/UrgehetR2D9SuB6F61HYP1K4HoXrUdg/UrgehetR2D9SuB6F61HYP1K4HoXrUdg/UrgehetR2D9SuB6F61HYP1K4HoXrUdg/UrgehetR2D9SuB6F61HYP1K4HoXrUdg/UrgehetR2D9SuB6F61HYP1K4HoXrUdg/mpmZmZmZ2T+amZmZmZnZP5qZmZmZmdk/mpmZmZmZ2T+amZmZmZnZP5qZmZmZmdk/mpmZmZmZ2T+amZmZmZnZP5qZmZmZmdk/mpmZmZmZ2T+amZmZmZnZP5qZmZmZmdk/mpmZmZmZ2T+amZmZmZnZP5qZmZmZmdk/mpmZmZmZ2T+amZmZmZnZP5qZmZmZmdk/mpmZmZmZ2T+amZmZmZnZP5qZmZmZmdk/mpmZmZmZ2T+amZmZmZnZP5qZmZmZmdk/mpmZmZmZ2T+amZmZmZnZP5qZmZmZmdk/mpmZmZmZ2T+amZmZmZnZP5qZmZmZmdk/mpmZmZmZ2T+amZmZmZnZP5qZmZmZmdk/mpmZmZmZ2T+amZmZmZnZP5qZmZmZmdk/mpmZmZmZ2T+amZmZmZnZP5qZmZmZmdk/mpmZmZmZ2T+amZmZmZnZP5qZmZmZmdk/mpmZmZmZ2T+amZmZmZnZP5qZmZmZmdk/mpmZmZmZ2T+amZmZmZnZP5qZmZmZmdk/mpmZmZmZ2T+amZmZmZnZP5qZmZmZmdk/4XoUrkfh2j/hehSuR+HaP+F6FK5H4do/4XoUrkfh2j/hehSuR+HaP+F6FK5H4do/4XoUrkfh2j/hehSuR+HaP+F6FK5H4do/4XoUrkfh2j/hehSuR+HaP+F6FK5H4do/4XoUrkfh2j/hehSuR+HaP+F6FK5H4do/4XoUrkfh2j/hehSuR+HaP+F6FK5H4do/4XoUrkfh2j/hehSuR+HaP+F6FK5H4do/4XoUrkfh2j/hehSuR+HaP+F6FK5H4do/4XoUrkfh2j/hehSuR+HaP+F6FK5H4do/4XoUrkfh2j/hehSuR+HaP+F6FK5H4do/4XoUrkfh2j/hehSuR+HaP+F6FK5H4do/4XoUrkfh2j/hehSuR+HaP+F6FK5H4do/4XoUrkfh2j/hehSuR+HaP+F6FK5H4do/4XoUrkfh2j/hehSuR+HaP+F6FK5H4do/4XoUrkfh2j/hehSuR+HaP+F6FK5H4do/4XoUrkfh2j/hehSuR+HaP+F6FK5H4do/4XoUrkfh2j/hehSuR+HaP+F6FK5H4do/KVyPwvUo3D8pXI/C9SjcPylcj8L1KNw/KVyPwvUo3D8pXI/C9SjcPylcj8L1KNw/KVyPwvUo3D8pXI/C9SjcPylcj8L1KNw/KVyPwvUo3D8pXI/C9SjcPylcj8L1KNw/KVyPwvUo3D8pXI/C9SjcPylcj8L1KNw/KVyPwvUo3D8pXI/C9SjcPylcj8L1KNw/KVyPwvUo3D8pXI/C9SjcPylcj8L1KNw/KVyPwvUo3D8pXI/C9SjcPylcj8L1KNw/KVyPwvUo3D8pXI/C9SjcPylcj8L1KNw/KVyPwvUo3D8pXI/C9SjcPylcj8L1KNw/KVyPwvUo3D8pXI/C9SjcPylcj8L1KNw/KVyPwvUo3D8pXI/C9SjcPylcj8L1KNw/KVyPwvUo3D8pXI/C9SjcPylcj8L1KNw/KVyPwvUo3D8pXI/C9SjcPylcj8L1KNw/KVyPwvUo3D8pXI/C9SjcPylcj8L1KNw/KVyPwvUo3D8pXI/C9SjcPylcj8L1KNw/KVyPwvUo3D8pXI/C9SjcPylcj8L1KNw/cT0K16Nw3T9xPQrXo3DdP3E9CtejcN0/cT0K16Nw3T9xPQrXo3DdP3E9CtejcN0/cT0K16Nw3T9xPQrXo3DdP3E9CtejcN0/cT0K16Nw3T9xPQrXo3DdP3E9CtejcN0/cT0K16Nw3T9xPQrXo3DdP3E9CtejcN0/cT0K16Nw3T9xPQrXo3DdP3E9CtejcN0/cT0K16Nw3T9xPQrXo3DdP3E9CtejcN0/cT0K16Nw3T9xPQrXo3DdP3E9CtejcN0/cT0K16Nw3T9xPQrXo3DdP3E9CtejcN0/cT0K16Nw3T9xPQrXo3DdP3E9CtejcN0/cT0K16Nw3T9xPQrXo3DdP3E9CtejcN0/cT0K16Nw3T9xPQrXo3DdP3E9CtejcN0/cT0K16Nw3T9xPQrXo3DdP3E9CtejcN0/cT0K16Nw3T9xPQrXo3DdP3E9CtejcN0/cT0K16Nw3T9xPQrXo3DdP3E9CtejcN0/cT0K16Nw3T9xPQrXo3DdP3E9CtejcN0/cT0K16Nw3T9xPQrXo3DdP3E9CtejcN0/uB6F61G43j+4HoXrUbjeP7gehetRuN4/uB6F61G43j+4HoXrUbjeP7gehetRuN4/uB6F61G43j+4HoXrUbjeP7gehetRuN4/uB6F61G43j+4HoXrUbjeP7gehetRuN4/uB6F61G43j+4HoXrUbjeP7gehetRuN4/uB6F61G43j+4HoXrUbjeP7gehetRuN4/uB6F61G43j+4HoXrUbjeP7gehetRuN4/uB6F61G43j+4HoXrUbjeP7gehetRuN4/uB6F61G43j+4HoXrUbjeP7gehetRuN4/uB6F61G43j+4HoXrUbjeP7gehetRuN4/uB6F61G43j+4HoXrUbjeP7gehetRuN4/uB6F61G43j+4HoXrUbjeP7gehetRuN4/uB6F61G43j+4HoXrUbjeP7gehetRuN4/uB6F61G43j+4HoXrUbjeP7gehetRuN4/uB6F61G43j+4HoXrUbjeP7gehetRuN4/uB6F61G43j+4HoXrUbjeP7gehetRuN4/uB6F61G43j+4HoXrUbjeP7gehetRuN4/AAAAAAAA4D8AAAAAAADgPwAAAAAAAOA/AAAAAAAA4D8AAAAAAADgPwAAAAAAAOA/AAAAAAAA4D8AAAAAAADgPwAAAAAAAOA/AAAAAAAA4D8AAAAAAADgPwAAAAAAAOA/AAAAAAAA4D8AAAAAAADgPwAAAAAAAOA/AAAAAAAA4D8AAAAAAADgPwAAAAAAAOA/AAAAAAAA4D8AAAAAAADgPwAAAAAAAOA/AAAAAAAA4D8AAAAAAADgPwAAAAAAAOA/AAAAAAAA4D8AAAAAAADgPwAAAAAAAOA/AAAAAAAA4D8AAAAAAADgPwAAAAAAAOA/AAAAAAAA4D8AAAAAAADgPwAAAAAAAOA/AAAAAAAA4D8AAAAAAADgPwAAAAAAAOA/AAAAAAAA4D8AAAAAAADgPwAAAAAAAOA/AAAAAAAA4D8AAAAAAADgPwAAAAAAAOA/AAAAAAAA4D8AAAAAAADgPwAAAAAAAOA/AAAAAAAA4D8AAAAAAADgPwAAAAAAAOA/AAAAAAAA4D8AAAAAAADgPwAAAAAAAOA/pHA9Ctej4D+kcD0K16PgP6RwPQrXo+A/pHA9Ctej4D+kcD0K16PgP6RwPQrXo+A/pHA9Ctej4D+kcD0K16PgP6RwPQrXo+A/pHA9Ctej4D+kcD0K16PgP6RwPQrXo+A/pHA9Ctej4D+kcD0K16PgP6RwPQrXo+A/pHA9Ctej4D+kcD0K16PgP6RwPQrXo+A/pHA9Ctej4D+kcD0K16PgP6RwPQrXo+A/pHA9Ctej4D+kcD0K16PgP6RwPQrXo+A/pHA9Ctej4D+kcD0K16PgP6RwPQrXo+A/pHA9Ctej4D+kcD0K16PgP6RwPQrXo+A/pHA9Ctej4D+kcD0K16PgP6RwPQrXo+A/pHA9Ctej4D+kcD0K16PgP6RwPQrXo+A/pHA9Ctej4D+kcD0K16PgP6RwPQrXo+A/pHA9Ctej4D+kcD0K16PgP6RwPQrXo+A/pHA9Ctej4D+kcD0K16PgP6RwPQrXo+A/pHA9Ctej4D+kcD0K16PgP6RwPQrXo+A/pHA9Ctej4D+kcD0K16PgP6RwPQrXo+A/SOF6FK5H4T9I4XoUrkfhP0jhehSuR+E/SOF6FK5H4T9I4XoUrkfhP0jhehSuR+E/SOF6FK5H4T9I4XoUrkfhP0jhehSuR+E/SOF6FK5H4T9I4XoUrkfhP0jhehSuR+E/SOF6FK5H4T9I4XoUrkfhP0jhehSuR+E/SOF6FK5H4T9I4XoUrkfhP0jhehSuR+E/SOF6FK5H4T9I4XoUrkfhP0jhehSuR+E/SOF6FK5H4T9I4XoUrkfhP0jhehSuR+E/SOF6FK5H4T9I4XoUrkfhP0jhehSuR+E/SOF6FK5H4T9I4XoUrkfhP0jhehSuR+E/SOF6FK5H4T9I4XoUrkfhP0jhehSuR+E/SOF6FK5H4T9I4XoUrkfhP0jhehSuR+E/SOF6FK5H4T9I4XoUrkfhP0jhehSuR+E/SOF6FK5H4T9I4XoUrkfhP0jhehSuR+E/SOF6FK5H4T9I4XoUrkfhP0jhehSuR+E/SOF6FK5H4T9I4XoUrkfhP0jhehSuR+E/SOF6FK5H4T9I4XoUrkfhP0jhehSuR+E/7FG4HoXr4T/sUbgehevhP+xRuB6F6+E/7FG4HoXr4T/sUbgehevhP+xRuB6F6+E/7FG4HoXr4T/sUbgehevhP+xRuB6F6+E/7FG4HoXr4T/sUbgehevhP+xRuB6F6+E/7FG4HoXr4T/sUbgehevhP+xRuB6F6+E/7FG4HoXr4T/sUbgehevhP+xRuB6F6+E/7FG4HoXr4T/sUbgehevhP+xRuB6F6+E/7FG4HoXr4T/sUbgehevhP+xRuB6F6+E/7FG4HoXr4T/sUbgehevhP+xRuB6F6+E/7FG4HoXr4T/sUbgehevhP+xRuB6F6+E/7FG4HoXr4T/sUbgehevhP+xRuB6F6+E/7FG4HoXr4T/sUbgehevhP+xRuB6F6+E/7FG4HoXr4T/sUbgehevhP+xRuB6F6+E/7FG4HoXr4T/sUbgehevhP+xRuB6F6+E/7FG4HoXr4T/sUbgehevhP+xRuB6F6+E/7FG4HoXr4T/sUbgehevhP+xRuB6F6+E/7FG4HoXr4T/sUbgehevhP+xRuB6F6+E/j8L1KFyP4j+PwvUoXI/iP4/C9Shcj+I/j8L1KFyP4j+PwvUoXI/iP4/C9Shcj+I/j8L1KFyP4j+PwvUoXI/iP4/C9Shcj+I/j8L1KFyP4j+PwvUoXI/iP4/C9Shcj+I/j8L1KFyP4j+PwvUoXI/iP4/C9Shcj+I/j8L1KFyP4j+PwvUoXI/iP4/C9Shcj+I/j8L1KFyP4j+PwvUoXI/iP4/C9Shcj+I/j8L1KFyP4j+PwvUoXI/iP4/C9Shcj+I/j8L1KFyP4j+PwvUoXI/iP4/C9Shcj+I/j8L1KFyP4j+PwvUoXI/iP4/C9Shcj+I/j8L1KFyP4j+PwvUoXI/iP4/C9Shcj+I/j8L1KFyP4j+PwvUoXI/iP4/C9Shcj+I/j8L1KFyP4j+PwvUoXI/iP4/C9Shcj+I/j8L1KFyP4j+PwvUoXI/iP4/C9Shcj+I/j8L1KFyP4j+PwvUoXI/iP4/C9Shcj+I/j8L1KFyP4j+PwvUoXI/iP4/C9Shcj+I/j8L1KFyP4j+PwvUoXI/iP4/C9Shcj+I/MzMzMzMz4z8zMzMzMzPjPzMzMzMzM+M/MzMzMzMz4z8zMzMzMzPjPzMzMzMzM+M/MzMzMzMz4z8zMzMzMzPjPzMzMzMzM+M/MzMzMzMz4z8zMzMzMzPjPzMzMzMzM+M/MzMzMzMz4z8zMzMzMzPjPzMzMzMzM+M/MzMzMzMz4z8zMzMzMzPjPzMzMzMzM+M/MzMzMzMz4z8zMzMzMzPjPzMzMzMzM+M/MzMzMzMz4z8zMzMzMzPjPzMzMzMzM+M/MzMzMzMz4z8zMzMzMzPjPzMzMzMzM+M/MzMzMzMz4z8zMzMzMzPjPzMzMzMzM+M/MzMzMzMz4z8zMzMzMzPjPzMzMzMzM+M/MzMzMzMz4z8zMzMzMzPjPzMzMzMzM+M/MzMzMzMz4z8zMzMzMzPjPzMzMzMzM+M/MzMzMzMz4z8zMzMzMzPjPzMzMzMzM+M/MzMzMzMz4z8zMzMzMzPjPzMzMzMzM+M/MzMzMzMz4z8zMzMzMzPjPzMzMzMzM+M/MzMzMzMz4z8zMzMzMzPjPzMzMzMzM+M/16NwPQrX4z/Xo3A9CtfjP9ejcD0K1+M/16NwPQrX4z/Xo3A9CtfjP9ejcD0K1+M/16NwPQrX4z/Xo3A9CtfjP9ejcD0K1+M/16NwPQrX4z/Xo3A9CtfjP9ejcD0K1+M/16NwPQrX4z/Xo3A9CtfjP9ejcD0K1+M/16NwPQrX4z/Xo3A9CtfjP9ejcD0K1+M/16NwPQrX4z/Xo3A9CtfjP9ejcD0K1+M/16NwPQrX4z/Xo3A9CtfjP9ejcD0K1+M/16NwPQrX4z/Xo3A9CtfjP9ejcD0K1+M/16NwPQrX4z/Xo3A9CtfjP9ejcD0K1+M/16NwPQrX4z/Xo3A9CtfjP9ejcD0K1+M/16NwPQrX4z/Xo3A9CtfjP9ejcD0K1+M/16NwPQrX4z/Xo3A9CtfjP9ejcD0K1+M/16NwPQrX4z/Xo3A9CtfjP9ejcD0K1+M/16NwPQrX4z/Xo3A9CtfjP9ejcD0K1+M/16NwPQrX4z/Xo3A9CtfjP9ejcD0K1+M/16NwPQrX4z/Xo3A9CtfjP9ejcD0K1+M/exSuR+F65D97FK5H4XrkP3sUrkfheuQ/exSuR+F65D97FK5H4XrkP3sUrkfheuQ/exSuR+F65D97FK5H4XrkP3sUrkfheuQ/exSuR+F65D97FK5H4XrkP3sUrkfheuQ/exSuR+F65D97FK5H4XrkP3sUrkfheuQ/exSuR+F65D97FK5H4XrkP3sUrkfheuQ/exSuR+F65D97FK5H4XrkP3sUrkfheuQ/exSuR+F65D97FK5H4XrkP3sUrkfheuQ/exSuR+F65D97FK5H4XrkP3sUrkfheuQ/exSuR+F65D97FK5H4XrkP3sUrkfheuQ/exSuR+F65D97FK5H4XrkP3sUrkfheuQ/exSuR+F65D97FK5H4XrkP3sUrkfheuQ/exSuR+F65D97FK5H4XrkP3sUrkfheuQ/exSuR+F65D97FK5H4XrkP3sUrkfheuQ/exSuR+F65D97FK5H4XrkP3sUrkfheuQ/exSuR+F65D97FK5H4XrkP3sUrkfheuQ/exSuR+F65D97FK5H4XrkP3sUrkfheuQ/H4XrUbge5T8fhetRuB7lPx+F61G4HuU/H4XrUbge5T8fhetRuB7lPx+F61G4HuU/H4XrUbge5T8fhetRuB7lPx+F61G4HuU/H4XrUbge5T8fhetRuB7lPx+F61G4HuU/H4XrUbge5T8fhetRuB7lPx+F61G4HuU/H4XrUbge5T8fhetRuB7lPx+F61G4HuU/H4XrUbge5T8fhetRuB7lPx+F61G4HuU/H4XrUbge5T8fhetRuB7lPx+F61G4HuU/H4XrUbge5T8fhetRuB7lPx+F61G4HuU/H4XrUbge5T8fhetRuB7lPx+F61G4HuU/H4XrUbge5T8fhetRuB7lPx+F61G4HuU/H4XrUbge5T8fhetRuB7lPx+F61G4HuU/H4XrUbge5T8fhetRuB7lPx+F61G4HuU/H4XrUbge5T8fhetRuB7lPx+F61G4HuU/H4XrUbge5T8fhetRuB7lPx+F61G4HuU/H4XrUbge5T8fhetRuB7lPx+F61G4HuU/H4XrUbge5T8fhetRuB7lPx+F61G4HuU/w/UoXI/C5T/D9Shcj8LlP8P1KFyPwuU/w/UoXI/C5T/D9Shcj8LlP8P1KFyPwuU/w/UoXI/C5T/D9Shcj8LlP8P1KFyPwuU/w/UoXI/C5T/D9Shcj8LlP8P1KFyPwuU/w/UoXI/C5T/D9Shcj8LlP8P1KFyPwuU/w/UoXI/C5T/D9Shcj8LlP8P1KFyPwuU/w/UoXI/C5T/D9Shcj8LlP8P1KFyPwuU/w/UoXI/C5T/D9Shcj8LlP8P1KFyPwuU/w/UoXI/C5T/D9Shcj8LlP8P1KFyPwuU/w/UoXI/C5T/D9Shcj8LlP8P1KFyPwuU/w/UoXI/C5T/D9Shcj8LlP8P1KFyPwuU/w/UoXI/C5T/D9Shcj8LlP8P1KFyPwuU/w/UoXI/C5T/D9Shcj8LlP8P1KFyPwuU/w/UoXI/C5T/D9Shcj8LlP8P1KFyPwuU/w/UoXI/C5T/D9Shcj8LlP8P1KFyPwuU/w/UoXI/C5T/D9Shcj8LlP8P1KFyPwuU/w/UoXI/C5T/D9Shcj8LlP8P1KFyPwuU/Z2ZmZmZm5j9nZmZmZmbmP2dmZmZmZuY/Z2ZmZmZm5j9nZmZmZmbmP2dmZmZmZuY/Z2ZmZmZm5j9nZmZmZmbmP2dmZmZmZuY/Z2ZmZmZm5j9nZmZmZmbmP2dmZmZmZuY/Z2ZmZmZm5j9nZmZmZmbmP2dmZmZmZuY/Z2ZmZmZm5j9nZmZmZmbmP2dmZmZmZuY/Z2ZmZmZm5j9nZmZmZmbmP2dmZmZmZuY/Z2ZmZmZm5j9nZmZmZmbmP2dmZmZmZuY/Z2ZmZmZm5j9nZmZmZmbmP2dmZmZmZuY/Z2ZmZmZm5j9nZmZmZmbmP2dmZmZmZuY/Z2ZmZmZm5j9nZmZmZmbmP2dmZmZmZuY/Z2ZmZmZm5j9nZmZmZmbmP2dmZmZmZuY/Z2ZmZmZm5j9nZmZmZmbmP2dmZmZmZuY/Z2ZmZmZm5j9nZmZmZmbmP2dmZmZmZuY/Z2ZmZmZm5j9nZmZmZmbmP2dmZmZmZuY/Z2ZmZmZm5j9nZmZmZmbmP2dmZmZmZuY/Z2ZmZmZm5j9nZmZmZmbmP2dmZmZmZuY/CtejcD0K5z8K16NwPQrnPwrXo3A9Cuc/CtejcD0K5z8K16NwPQrnPwrXo3A9Cuc/CtejcD0K5z8K16NwPQrnPwrXo3A9Cuc/CtejcD0K5z8K16NwPQrnPwrXo3A9Cuc/CtejcD0K5z8K16NwPQrnPwrXo3A9Cuc/CtejcD0K5z8K16NwPQrnPwrXo3A9Cuc/CtejcD0K5z8K16NwPQrnPwrXo3A9Cuc/CtejcD0K5z8K16NwPQrnPwrXo3A9Cuc/CtejcD0K5z8K16NwPQrnPwrXo3A9Cuc/CtejcD0K5z8K16NwPQrnPwrXo3A9Cuc/CtejcD0K5z8K16NwPQrnPwrXo3A9Cuc/CtejcD0K5z8K16NwPQrnPwrXo3A9Cuc/CtejcD0K5z8K16NwPQrnPwrXo3A9Cuc/CtejcD0K5z8K16NwPQrnPwrXo3A9Cuc/CtejcD0K5z8K16NwPQrnPwrXo3A9Cuc/CtejcD0K5z8K16NwPQrnPwrXo3A9Cuc/CtejcD0K5z8K16NwPQrnPwrXo3A9Cuc/rkfhehSu5z+uR+F6FK7nP65H4XoUruc/rkfhehSu5z+uR+F6FK7nP65H4XoUruc/rkfhehSu5z+uR+F6FK7nP65H4XoUruc/rkfhehSu5z+uR+F6FK7nP65H4XoUruc/rkfhehSu5z+uR+F6FK7nP65H4XoUruc/rkfhehSu5z+uR+F6FK7nP65H4XoUruc/rkfhehSu5z+uR+F6FK7nP65H4XoUruc/rkfhehSu5z+uR+F6FK7nP65H4XoUruc/rkfhehSu5z+uR+F6FK7nP65H4XoUruc/rkfhehSu5z+uR+F6FK7nP65H4XoUruc/rkfhehSu5z+uR+F6FK7nP65H4XoUruc/rkfhehSu5z+uR+F6FK7nP65H4XoUruc/rkfhehSu5z+uR+F6FK7nP65H4XoUruc/rkfhehSu5z+uR+F6FK7nP65H4XoUruc/rkfhehSu5z+uR+F6FK7nP65H4XoUruc/rkfhehSu5z+uR+F6FK7nP65H4XoUruc/rkfhehSu5z+uR+F6FK7nP65H4XoUruc/UrgehetR6D9SuB6F61HoP1K4HoXrUeg/UrgehetR6D9SuB6F61HoP1K4HoXrUeg/UrgehetR6D9SuB6F61HoP1K4HoXrUeg/UrgehetR6D9SuB6F61HoP1K4HoXrUeg/UrgehetR6D9SuB6F61HoP1K4HoXrUeg/UrgehetR6D9SuB6F61HoP1K4HoXrUeg/UrgehetR6D9SuB6F61HoP1K4HoXrUeg/UrgehetR6D9SuB6F61HoP1K4HoXrUeg/UrgehetR6D9SuB6F61HoP1K4HoXrUeg/UrgehetR6D9SuB6F61HoP1K4HoXrUeg/UrgehetR6D9SuB6F61HoP1K4HoXrUeg/UrgehetR6D9SuB6F61HoP1K4HoXrUeg/UrgehetR6D9SuB6F61HoP1K4HoXrUeg/UrgehetR6D9SuB6F61HoP1K4HoXrUeg/UrgehetR6D9SuB6F61HoP1K4HoXrUeg/UrgehetR6D9SuB6F61HoP1K4HoXrUeg/UrgehetR6D9SuB6F61HoP1K4HoXrUeg/9ihcj8L16D/2KFyPwvXoP/YoXI/C9eg/9ihcj8L16D/2KFyPwvXoP/YoXI/C9eg/9ihcj8L16D/2KFyPwvXoP/YoXI/C9eg/9ihcj8L16D/2KFyPwvXoP/YoXI/C9eg/9ihcj8L16D/2KFyPwvXoP/YoXI/C9eg/9ihcj8L16D/2KFyPwvXoP/YoXI/C9eg/9ihcj8L16D/2KFyPwvXoP/YoXI/C9eg/9ihcj8L16D/2KFyPwvXoP/YoXI/C9eg/9ihcj8L16D/2KFyPwvXoP/YoXI/C9eg/9ihcj8L16D/2KFyPwvXoP/YoXI/C9eg/9ihcj8L16D/2KFyPwvXoP/YoXI/C9eg/9ihcj8L16D/2KFyPwvXoP/YoXI/C9eg/9ihcj8L16D/2KFyPwvXoP/YoXI/C9eg/9ihcj8L16D/2KFyPwvXoP/YoXI/C9eg/9ihcj8L16D/2KFyPwvXoP/YoXI/C9eg/9ihcj8L16D/2KFyPwvXoP/YoXI/C9eg/9ihcj8L16D/2KFyPwvXoP/YoXI/C9eg/mpmZmZmZ6T+amZmZmZnpP5qZmZmZmek/mpmZmZmZ6T+amZmZmZnpP5qZmZmZmek/mpmZmZmZ6T+amZmZmZnpP5qZmZmZmek/mpmZmZmZ6T+amZmZmZnpP5qZmZmZmek/mpmZmZmZ6T+amZmZmZnpP5qZmZmZmek/mpmZmZmZ6T+amZmZmZnpP5qZmZmZmek/mpmZmZmZ6T+amZmZmZnpP5qZmZmZmek/mpmZmZmZ6T+amZmZmZnpP5qZmZmZmek/mpmZmZmZ6T+amZmZmZnpP5qZmZmZmek/mpmZmZmZ6T+amZmZmZnpP5qZmZmZmek/mpmZmZmZ6T+amZmZmZnpP5qZmZmZmek/mpmZmZmZ6T+amZmZmZnpP5qZmZmZmek/mpmZmZmZ6T+amZmZmZnpP5qZmZmZmek/mpmZmZmZ6T+amZmZmZnpP5qZmZmZmek/mpmZmZmZ6T+amZmZmZnpP5qZmZmZmek/mpmZmZmZ6T+amZmZmZnpP5qZmZmZmek/mpmZmZmZ6T+amZmZmZnpP5qZmZmZmek/PgrXo3A96j8+CtejcD3qPz4K16NwPeo/PgrXo3A96j8+CtejcD3qPz4K16NwPeo/PgrXo3A96j8+CtejcD3qPz4K16NwPeo/PgrXo3A96j8+CtejcD3qPz4K16NwPeo/PgrXo3A96j8+CtejcD3qPz4K16NwPeo/PgrXo3A96j8+CtejcD3qPz4K16NwPeo/PgrXo3A96j8+CtejcD3qPz4K16NwPeo/PgrXo3A96j8+CtejcD3qPz4K16NwPeo/PgrXo3A96j8+CtejcD3qPz4K16NwPeo/PgrXo3A96j8+CtejcD3qPz4K16NwPeo/PgrXo3A96j8+CtejcD3qPz4K16NwPeo/PgrXo3A96j8+CtejcD3qPz4K16NwPeo/PgrXo3A96j8+CtejcD3qPz4K16NwPeo/PgrXo3A96j8+CtejcD3qPz4K16NwPeo/PgrXo3A96j8+CtejcD3qPz4K16NwPeo/PgrXo3A96j8+CtejcD3qPz4K16NwPeo/PgrXo3A96j8+CtejcD3qPz4K16NwPeo/4XoUrkfh6j/hehSuR+HqP+F6FK5H4eo/4XoUrkfh6j/hehSuR+HqP+F6FK5H4eo/4XoUrkfh6j/hehSuR+HqP+F6FK5H4eo/4XoUrkfh6j/hehSuR+HqP+F6FK5H4eo/4XoUrkfh6j/hehSuR+HqP+F6FK5H4eo/4XoUrkfh6j/hehSuR+HqP+F6FK5H4eo/4XoUrkfh6j/hehSuR+HqP+F6FK5H4eo/4XoUrkfh6j/hehSuR+HqP+F6FK5H4eo/4XoUrkfh6j/hehSuR+HqP+F6FK5H4eo/4XoUrkfh6j/hehSuR+HqP+F6FK5H4eo/4XoUrkfh6j/hehSuR+HqP+F6FK5H4eo/4XoUrkfh6j/hehSuR+HqP+F6FK5H4eo/4XoUrkfh6j/hehSuR+HqP+F6FK5H4eo/4XoUrkfh6j/hehSuR+HqP+F6FK5H4eo/4XoUrkfh6j/hehSuR+HqP+F6FK5H4eo/4XoUrkfh6j/hehSuR+HqP+F6FK5H4eo/4XoUrkfh6j/hehSuR+HqP+F6FK5H4eo/hetRuB6F6z+F61G4HoXrP4XrUbgehes/hetRuB6F6z+F61G4HoXrP4XrUbgehes/hetRuB6F6z+F61G4HoXrP4XrUbgehes/hetRuB6F6z+F61G4HoXrP4XrUbgehes/hetRuB6F6z+F61G4HoXrP4XrUbgehes/hetRuB6F6z+F61G4HoXrP4XrUbgehes/hetRuB6F6z+F61G4HoXrP4XrUbgehes/hetRuB6F6z+F61G4HoXrP4XrUbgehes/hetRuB6F6z+F61G4HoXrP4XrUbgehes/hetRuB6F6z+F61G4HoXrP4XrUbgehes/hetRuB6F6z+F61G4HoXrP4XrUbgehes/hetRuB6F6z+F61G4HoXrP4XrUbgehes/hetRuB6F6z+F61G4HoXrP4XrUbgehes/hetRuB6F6z+F61G4HoXrP4XrUbgehes/hetRuB6F6z+F61G4HoXrP4XrUbgehes/hetRuB6F6z+F61G4HoXrP4XrUbgehes/hetRuB6F6z+F61G4HoXrP4XrUbgehes/KVyPwvUo7D8pXI/C9SjsPylcj8L1KOw/KVyPwvUo7D8pXI/C9SjsPylcj8L1KOw/KVyPwvUo7D8pXI/C9SjsPylcj8L1KOw/KVyPwvUo7D8pXI/C9SjsPylcj8L1KOw/KVyPwvUo7D8pXI/C9SjsPylcj8L1KOw/KVyPwvUo7D8pXI/C9SjsPylcj8L1KOw/KVyPwvUo7D8pXI/C9SjsPylcj8L1KOw/KVyPwvUo7D8pXI/C9SjsPylcj8L1KOw/KVyPwvUo7D8pXI/C9SjsPylcj8L1KOw/KVyPwvUo7D8pXI/C9SjsPylcj8L1KOw/KVyPwvUo7D8pXI/C9SjsPylcj8L1KOw/KVyPwvUo7D8pXI/C9SjsPylcj8L1KOw/KVyPwvUo7D8pXI/C9SjsPylcj8L1KOw/KVyPwvUo7D8pXI/C9SjsPylcj8L1KOw/KVyPwvUo7D8pXI/C9SjsPylcj8L1KOw/KVyPwvUo7D8pXI/C9SjsPylcj8L1KOw/KVyPwvUo7D8pXI/C9SjsPylcj8L1KOw/zczMzMzM7D/NzMzMzMzsP83MzMzMzOw/zczMzMzM7D/NzMzMzMzsP83MzMzMzOw/zczMzMzM7D/NzMzMzMzsP83MzMzMzOw/zczMzMzM7D/NzMzMzMzsP83MzMzMzOw/zczMzMzM7D/NzMzMzMzsP83MzMzMzOw/zczMzMzM7D/NzMzMzMzsP83MzMzMzOw/zczMzMzM7D/NzMzMzMzsP83MzMzMzOw/zczMzMzM7D/NzMzMzMzsP83MzMzMzOw/zczMzMzM7D/NzMzMzMzsP83MzMzMzOw/zczMzMzM7D/NzMzMzMzsP83MzMzMzOw/zczMzMzM7D/NzMzMzMzsP83MzMzMzOw/zczMzMzM7D/NzMzMzMzsP83MzMzMzOw/zczMzMzM7D/NzMzMzMzsP83MzMzMzOw/zczMzMzM7D/NzMzMzMzsP83MzMzMzOw/zczMzMzM7D/NzMzMzMzsP83MzMzMzOw/zczMzMzM7D/NzMzMzMzsP83MzMzMzOw/zczMzMzM7D/NzMzMzMzsP83MzMzMzOw/cT0K16Nw7T9xPQrXo3DtP3E9CtejcO0/cT0K16Nw7T9xPQrXo3DtP3E9CtejcO0/cT0K16Nw7T9xPQrXo3DtP3E9CtejcO0/cT0K16Nw7T9xPQrXo3DtP3E9CtejcO0/cT0K16Nw7T9xPQrXo3DtP3E9CtejcO0/cT0K16Nw7T9xPQrXo3DtP3E9CtejcO0/cT0K16Nw7T9xPQrXo3DtP3E9CtejcO0/cT0K16Nw7T9xPQrXo3DtP3E9CtejcO0/cT0K16Nw7T9xPQrXo3DtP3E9CtejcO0/cT0K16Nw7T9xPQrXo3DtP3E9CtejcO0/cT0K16Nw7T9xPQrXo3DtP3E9CtejcO0/cT0K16Nw7T9xPQrXo3DtP3E9CtejcO0/cT0K16Nw7T9xPQrXo3DtP3E9CtejcO0/cT0K16Nw7T9xPQrXo3DtP3E9CtejcO0/cT0K16Nw7T9xPQrXo3DtP3E9CtejcO0/cT0K16Nw7T9xPQrXo3DtP3E9CtejcO0/cT0K16Nw7T9xPQrXo3DtP3E9CtejcO0/Fa5H4XoU7j8VrkfhehTuPxWuR+F6FO4/Fa5H4XoU7j8VrkfhehTuPxWuR+F6FO4/Fa5H4XoU7j8VrkfhehTuPxWuR+F6FO4/Fa5H4XoU7j8VrkfhehTuPxWuR+F6FO4/Fa5H4XoU7j8VrkfhehTuPxWuR+F6FO4/Fa5H4XoU7j8VrkfhehTuPxWuR+F6FO4/Fa5H4XoU7j8VrkfhehTuPxWuR+F6FO4/Fa5H4XoU7j8VrkfhehTuPxWuR+F6FO4/Fa5H4XoU7j8VrkfhehTuPxWuR+F6FO4/Fa5H4XoU7j8VrkfhehTuPxWuR+F6FO4/Fa5H4XoU7j8VrkfhehTuPxWuR+F6FO4/Fa5H4XoU7j8VrkfhehTuPxWuR+F6FO4/Fa5H4XoU7j8VrkfhehTuPxWuR+F6FO4/Fa5H4XoU7j8VrkfhehTuPxWuR+F6FO4/Fa5H4XoU7j8VrkfhehTuPxWuR+F6FO4/Fa5H4XoU7j8VrkfhehTuPxWuR+F6FO4/Fa5H4XoU7j8VrkfhehTuPxWuR+F6FO4/uB6F61G47j+4HoXrUbjuP7gehetRuO4/uB6F61G47j+4HoXrUbjuP7gehetRuO4/uB6F61G47j+4HoXrUbjuP7gehetRuO4/uB6F61G47j+4HoXrUbjuP7gehetRuO4/uB6F61G47j+4HoXrUbjuP7gehetRuO4/uB6F61G47j+4HoXrUbjuP7gehetRuO4/uB6F61G47j+4HoXrUbjuP7gehetRuO4/uB6F61G47j+4HoXrUbjuP7gehetRuO4/uB6F61G47j+4HoXrUbjuP7gehetRuO4/uB6F61G47j+4HoXrUbjuP7gehetRuO4/uB6F61G47j+4HoXrUbjuP7gehetRuO4/uB6F61G47j+4HoXrUbjuP7gehetRuO4/uB6F61G47j+4HoXrUbjuP7gehetRuO4/uB6F61G47j+4HoXrUbjuP7gehetRuO4/uB6F61G47j+4HoXrUbjuP7gehetRuO4/uB6F61G47j+4HoXrUbjuP7gehetRuO4/uB6F61G47j+4HoXrUbjuP7gehetRuO4/XI/C9Shc7z9cj8L1KFzvP1yPwvUoXO8/XI/C9Shc7z9cj8L1KFzvP1yPwvUoXO8/XI/C9Shc7z9cj8L1KFzvP1yPwvUoXO8/XI/C9Shc7z9cj8L1KFzvP1yPwvUoXO8/XI/C9Shc7z9cj8L1KFzvP1yPwvUoXO8/XI/C9Shc7z9cj8L1KFzvP1yPwvUoXO8/XI/C9Shc7z9cj8L1KFzvP1yPwvUoXO8/XI/C9Shc7z9cj8L1KFzvP1yPwvUoXO8/XI/C9Shc7z9cj8L1KFzvP1yPwvUoXO8/XI/C9Shc7z9cj8L1KFzvP1yPwvUoXO8/XI/C9Shc7z9cj8L1KFzvP1yPwvUoXO8/XI/C9Shc7z9cj8L1KFzvP1yPwvUoXO8/XI/C9Shc7z9cj8L1KFzvP1yPwvUoXO8/XI/C9Shc7z9cj8L1KFzvP1yPwvUoXO8/XI/C9Shc7z9cj8L1KFzvP1yPwvUoXO8/XI/C9Shc7z9cj8L1KFzvP1yPwvUoXO8/XI/C9Shc7z9cj8L1KFzvP1yPwvUoXO8/AAAAAAAA8D8AAAAAAADwPwAAAAAAAPA/AAAAAAAA8D8AAAAAAADwPwAAAAAAAPA/AAAAAAAA8D8AAAAAAADwPwAAAAAAAPA/AAAAAAAA8D8AAAAAAADwPwAAAAAAAPA/AAAAAAAA8D8AAAAAAADwPwAAAAAAAPA/AAAAAAAA8D8AAAAAAADwPwAAAAAAAPA/AAAAAAAA8D8AAAAAAADwPwAAAAAAAPA/AAAAAAAA8D8AAAAAAADwPwAAAAAAAPA/AAAAAAAA8D8AAAAAAADwPwAAAAAAAPA/AAAAAAAA8D8AAAAAAADwPwAAAAAAAPA/AAAAAAAA8D8AAAAAAADwPwAAAAAAAPA/AAAAAAAA8D8AAAAAAADwPwAAAAAAAPA/AAAAAAAA8D8AAAAAAADwPwAAAAAAAPA/AAAAAAAA8D8AAAAAAADwPwAAAAAAAPA/AAAAAAAA8D8AAAAAAADwPwAAAAAAAPA/AAAAAAAA8D8AAAAAAADwPwAAAAAAAPA/AAAAAAAA8D8AAAAAAADwPwAAAAAAAPA/",
          "dtype": "f8",
          "shape": "51, 51"
         },
         "z": {
          "bdata": "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",
          "dtype": "f8",
          "shape": "51, 51"
         }
        },
        {
         "color": "rgb(0,0,255)",
         "flatshading": true,
         "i": [
          0,
          0
         ],
         "j": [
          1,
          2
         ],
         "k": [
          2,
          3
         ],
         "opacity": 0.8,
         "showscale": false,
         "type": "mesh3d",
         "x": [
          0,
          0.1,
          0.1,
          0
         ],
         "y": [
          0,
          0,
          0.1,
          0.1
         ],
         "z": [
          0,
          0,
          0,
          0
         ]
        },
        {
         "color": "rgb(0,0,255)",
         "flatshading": true,
         "i": [
          0,
          0
         ],
         "j": [
          1,
          2
         ],
         "k": [
          2,
          3
         ],
         "opacity": 0.8,
         "showscale": false,
         "type": "mesh3d",
         "x": [
          0,
          0.1,
          0.1,
          0
         ],
         "y": [
          0.1,
          0.1,
          0.2,
          0.2
         ],
         "z": [
          0,
          0,
          0,
          0
         ]
        },
        {
         "color": "rgb(128,128,128)",
         "flatshading": true,
         "i": [
          0,
          0
         ],
         "j": [
          1,
          2
         ],
         "k": [
          2,
          3
         ],
         "opacity": 0.8,
         "showscale": false,
         "type": "mesh3d",
         "x": [
          0,
          0.1,
          0.1,
          0
         ],
         "y": [
          0.2,
          0.2,
          0.30000000000000004,
          0.30000000000000004
         ],
         "z": [
          0,
          0,
          0,
          0
         ]
        },
        {
         "color": "rgb(0,0,255)",
         "flatshading": true,
         "i": [
          0,
          0
         ],
         "j": [
          1,
          2
         ],
         "k": [
          2,
          3
         ],
         "opacity": 0.8,
         "showscale": false,
         "type": "mesh3d",
         "x": [
          0,
          0.1,
          0.1,
          0
         ],
         "y": [
          0.30000000000000004,
          0.30000000000000004,
          0.4,
          0.4
         ],
         "z": [
          0,
          0,
          0,
          0
         ]
        },
        {
         "color": "rgb(0,0,255)",
         "flatshading": true,
         "i": [
          0,
          0
         ],
         "j": [
          1,
          2
         ],
         "k": [
          2,
          3
         ],
         "opacity": 0.8,
         "showscale": false,
         "type": "mesh3d",
         "x": [
          0,
          0.1,
          0.1,
          0
         ],
         "y": [
          0.4,
          0.4,
          0.5,
          0.5
         ],
         "z": [
          0,
          0,
          0,
          0
         ]
        },
        {
         "color": "rgb(128,128,128)",
         "flatshading": true,
         "i": [
          0,
          0
         ],
         "j": [
          1,
          2
         ],
         "k": [
          2,
          3
         ],
         "opacity": 0.8,
         "showscale": false,
         "type": "mesh3d",
         "x": [
          0,
          0.1,
          0.1,
          0
         ],
         "y": [
          0.5,
          0.5,
          0.6000000000000001,
          0.6000000000000001
         ],
         "z": [
          0,
          0,
          0,
          0
         ]
        },
        {
         "color": "rgb(128,128,128)",
         "flatshading": true,
         "i": [
          0,
          0
         ],
         "j": [
          1,
          2
         ],
         "k": [
          2,
          3
         ],
         "opacity": 0.8,
         "showscale": false,
         "type": "mesh3d",
         "x": [
          0,
          0.1,
          0.1,
          0
         ],
         "y": [
          0.6000000000000001,
          0.6000000000000001,
          0.7000000000000001,
          0.7000000000000001
         ],
         "z": [
          0,
          0,
          0,
          0
         ]
        },
        {
         "color": "rgb(128,128,128)",
         "flatshading": true,
         "i": [
          0,
          0
         ],
         "j": [
          1,
          2
         ],
         "k": [
          2,
          3
         ],
         "opacity": 0.8,
         "showscale": false,
         "type": "mesh3d",
         "x": [
          0,
          0.1,
          0.1,
          0
         ],
         "y": [
          0.7000000000000001,
          0.7000000000000001,
          0.8,
          0.8
         ],
         "z": [
          0,
          0,
          0,
          0
         ]
        },
        {
         "color": "rgb(0,0,255)",
         "flatshading": true,
         "i": [
          0,
          0
         ],
         "j": [
          1,
          2
         ],
         "k": [
          2,
          3
         ],
         "opacity": 0.8,
         "showscale": false,
         "type": "mesh3d",
         "x": [
          0,
          0.1,
          0.1,
          0
         ],
         "y": [
          0.8,
          0.8,
          0.9,
          0.9
         ],
         "z": [
          0,
          0,
          0,
          0
         ]
        },
        {
         "color": "rgb(128,128,128)",
         "flatshading": true,
         "i": [
          0,
          0
         ],
         "j": [
          1,
          2
         ],
         "k": [
          2,
          3
         ],
         "opacity": 0.8,
         "showscale": false,
         "type": "mesh3d",
         "x": [
          0,
          0.1,
          0.1,
          0
         ],
         "y": [
          0.9,
          0.9,
          1,
          1
         ],
         "z": [
          0,
          0,
          0,
          0
         ]
        },
        {
         "color": "rgb(0,0,255)",
         "flatshading": true,
         "i": [
          0,
          0
         ],
         "j": [
          1,
          2
         ],
         "k": [
          2,
          3
         ],
         "opacity": 0.8,
         "showscale": false,
         "type": "mesh3d",
         "x": [
          0.1,
          0.2,
          0.2,
          0.1
         ],
         "y": [
          0,
          0,
          0.1,
          0.1
         ],
         "z": [
          0,
          0,
          0,
          0
         ]
        },
        {
         "color": "rgb(0,0,255)",
         "flatshading": true,
         "i": [
          0,
          0
         ],
         "j": [
          1,
          2
         ],
         "k": [
          2,
          3
         ],
         "opacity": 0.8,
         "showscale": false,
         "type": "mesh3d",
         "x": [
          0.1,
          0.2,
          0.2,
          0.1
         ],
         "y": [
          0.1,
          0.1,
          0.2,
          0.2
         ],
         "z": [
          0,
          0,
          0,
          0
         ]
        },
        {
         "color": "rgb(0,0,255)",
         "flatshading": true,
         "i": [
          0,
          0
         ],
         "j": [
          1,
          2
         ],
         "k": [
          2,
          3
         ],
         "opacity": 0.8,
         "showscale": false,
         "type": "mesh3d",
         "x": [
          0.1,
          0.2,
          0.2,
          0.1
         ],
         "y": [
          0.2,
          0.2,
          0.30000000000000004,
          0.30000000000000004
         ],
         "z": [
          0,
          0,
          0,
          0
         ]
        },
        {
         "color": "rgb(128,128,128)",
         "flatshading": true,
         "i": [
          0,
          0
         ],
         "j": [
          1,
          2
         ],
         "k": [
          2,
          3
         ],
         "opacity": 0.8,
         "showscale": false,
         "type": "mesh3d",
         "x": [
          0.1,
          0.2,
          0.2,
          0.1
         ],
         "y": [
          0.30000000000000004,
          0.30000000000000004,
          0.4,
          0.4
         ],
         "z": [
          0,
          0,
          0,
          0
         ]
        },
        {
         "color": "rgb(128,128,128)",
         "flatshading": true,
         "i": [
          0,
          0
         ],
         "j": [
          1,
          2
         ],
         "k": [
          2,
          3
         ],
         "opacity": 0.8,
         "showscale": false,
         "type": "mesh3d",
         "x": [
          0.1,
          0.2,
          0.2,
          0.1
         ],
         "y": [
          0.4,
          0.4,
          0.5,
          0.5
         ],
         "z": [
          0,
          0,
          0,
          0
         ]
        },
        {
         "color": "rgb(128,128,128)",
         "flatshading": true,
         "i": [
          0,
          0
         ],
         "j": [
          1,
          2
         ],
         "k": [
          2,
          3
         ],
         "opacity": 0.8,
         "showscale": false,
         "type": "mesh3d",
         "x": [
          0.1,
          0.2,
          0.2,
          0.1
         ],
         "y": [
          0.5,
          0.5,
          0.6000000000000001,
          0.6000000000000001
         ],
         "z": [
          0,
          0,
          0,
          0
         ]
        },
        {
         "color": "rgb(128,128,128)",
         "flatshading": true,
         "i": [
          0,
          0
         ],
         "j": [
          1,
          2
         ],
         "k": [
          2,
          3
         ],
         "opacity": 0.8,
         "showscale": false,
         "type": "mesh3d",
         "x": [
          0.1,
          0.2,
          0.2,
          0.1
         ],
         "y": [
          0.6000000000000001,
          0.6000000000000001,
          0.7000000000000001,
          0.7000000000000001
         ],
         "z": [
          0,
          0,
          0,
          0
         ]
        },
        {
         "color": "rgb(0,0,255)",
         "flatshading": true,
         "i": [
          0,
          0
         ],
         "j": [
          1,
          2
         ],
         "k": [
          2,
          3
         ],
         "opacity": 0.8,
         "showscale": false,
         "type": "mesh3d",
         "x": [
          0.1,
          0.2,
          0.2,
          0.1
         ],
         "y": [
          0.7000000000000001,
          0.7000000000000001,
          0.8,
          0.8
         ],
         "z": [
          0,
          0,
          0,
          0
         ]
        },
        {
         "color": "rgb(128,128,128)",
         "flatshading": true,
         "i": [
          0,
          0
         ],
         "j": [
          1,
          2
         ],
         "k": [
          2,
          3
         ],
         "opacity": 0.8,
         "showscale": false,
         "type": "mesh3d",
         "x": [
          0.1,
          0.2,
          0.2,
          0.1
         ],
         "y": [
          0.8,
          0.8,
          0.9,
          0.9
         ],
         "z": [
          0,
          0,
          0,
          0
         ]
        },
        {
         "color": "rgb(128,128,128)",
         "flatshading": true,
         "i": [
          0,
          0
         ],
         "j": [
          1,
          2
         ],
         "k": [
          2,
          3
         ],
         "opacity": 0.8,
         "showscale": false,
         "type": "mesh3d",
         "x": [
          0.1,
          0.2,
          0.2,
          0.1
         ],
         "y": [
          0.9,
          0.9,
          1,
          1
         ],
         "z": [
          0,
          0,
          0,
          0
         ]
        },
        {
         "color": "rgb(0,0,255)",
         "flatshading": true,
         "i": [
          0,
          0
         ],
         "j": [
          1,
          2
         ],
         "k": [
          2,
          3
         ],
         "opacity": 0.8,
         "showscale": false,
         "type": "mesh3d",
         "x": [
          0.2,
          0.30000000000000004,
          0.30000000000000004,
          0.2
         ],
         "y": [
          0,
          0,
          0.1,
          0.1
         ],
         "z": [
          0,
          0,
          0,
          0
         ]
        },
        {
         "color": "rgb(0,0,255)",
         "flatshading": true,
         "i": [
          0,
          0
         ],
         "j": [
          1,
          2
         ],
         "k": [
          2,
          3
         ],
         "opacity": 0.8,
         "showscale": false,
         "type": "mesh3d",
         "x": [
          0.2,
          0.30000000000000004,
          0.30000000000000004,
          0.2
         ],
         "y": [
          0.1,
          0.1,
          0.2,
          0.2
         ],
         "z": [
          0,
          0,
          0,
          0
         ]
        },
        {
         "color": "rgb(0,0,255)",
         "flatshading": true,
         "i": [
          0,
          0
         ],
         "j": [
          1,
          2
         ],
         "k": [
          2,
          3
         ],
         "opacity": 0.8,
         "showscale": false,
         "type": "mesh3d",
         "x": [
          0.2,
          0.30000000000000004,
          0.30000000000000004,
          0.2
         ],
         "y": [
          0.2,
          0.2,
          0.30000000000000004,
          0.30000000000000004
         ],
         "z": [
          0,
          0,
          0,
          0
         ]
        },
        {
         "color": "rgb(128,128,128)",
         "flatshading": true,
         "i": [
          0,
          0
         ],
         "j": [
          1,
          2
         ],
         "k": [
          2,
          3
         ],
         "opacity": 0.8,
         "showscale": false,
         "type": "mesh3d",
         "x": [
          0.2,
          0.30000000000000004,
          0.30000000000000004,
          0.2
         ],
         "y": [
          0.30000000000000004,
          0.30000000000000004,
          0.4,
          0.4
         ],
         "z": [
          0,
          0,
          0,
          0
         ]
        },
        {
         "color": "rgb(0,0,255)",
         "flatshading": true,
         "i": [
          0,
          0
         ],
         "j": [
          1,
          2
         ],
         "k": [
          2,
          3
         ],
         "opacity": 0.8,
         "showscale": false,
         "type": "mesh3d",
         "x": [
          0.2,
          0.30000000000000004,
          0.30000000000000004,
          0.2
         ],
         "y": [
          0.4,
          0.4,
          0.5,
          0.5
         ],
         "z": [
          0,
          0,
          0,
          0
         ]
        },
        {
         "color": "rgb(0,0,255)",
         "flatshading": true,
         "i": [
          0,
          0
         ],
         "j": [
          1,
          2
         ],
         "k": [
          2,
          3
         ],
         "opacity": 0.8,
         "showscale": false,
         "type": "mesh3d",
         "x": [
          0.2,
          0.30000000000000004,
          0.30000000000000004,
          0.2
         ],
         "y": [
          0.5,
          0.5,
          0.6000000000000001,
          0.6000000000000001
         ],
         "z": [
          0,
          0,
          0,
          0
         ]
        },
        {
         "color": "rgb(0,0,255)",
         "flatshading": true,
         "i": [
          0,
          0
         ],
         "j": [
          1,
          2
         ],
         "k": [
          2,
          3
         ],
         "opacity": 0.8,
         "showscale": false,
         "type": "mesh3d",
         "x": [
          0.2,
          0.30000000000000004,
          0.30000000000000004,
          0.2
         ],
         "y": [
          0.6000000000000001,
          0.6000000000000001,
          0.7000000000000001,
          0.7000000000000001
         ],
         "z": [
          0,
          0,
          0,
          0
         ]
        },
        {
         "color": "rgb(128,128,128)",
         "flatshading": true,
         "i": [
          0,
          0
         ],
         "j": [
          1,
          2
         ],
         "k": [
          2,
          3
         ],
         "opacity": 0.8,
         "showscale": false,
         "type": "mesh3d",
         "x": [
          0.2,
          0.30000000000000004,
          0.30000000000000004,
          0.2
         ],
         "y": [
          0.7000000000000001,
          0.7000000000000001,
          0.8,
          0.8
         ],
         "z": [
          0,
          0,
          0,
          0
         ]
        },
        {
         "color": "rgb(128,128,128)",
         "flatshading": true,
         "i": [
          0,
          0
         ],
         "j": [
          1,
          2
         ],
         "k": [
          2,
          3
         ],
         "opacity": 0.8,
         "showscale": false,
         "type": "mesh3d",
         "x": [
          0.2,
          0.30000000000000004,
          0.30000000000000004,
          0.2
         ],
         "y": [
          0.8,
          0.8,
          0.9,
          0.9
         ],
         "z": [
          0,
          0,
          0,
          0
         ]
        },
        {
         "color": "rgb(128,128,128)",
         "flatshading": true,
         "i": [
          0,
          0
         ],
         "j": [
          1,
          2
         ],
         "k": [
          2,
          3
         ],
         "opacity": 0.8,
         "showscale": false,
         "type": "mesh3d",
         "x": [
          0.2,
          0.30000000000000004,
          0.30000000000000004,
          0.2
         ],
         "y": [
          0.9,
          0.9,
          1,
          1
         ],
         "z": [
          0,
          0,
          0,
          0
         ]
        },
        {
         "color": "rgb(128,128,128)",
         "flatshading": true,
         "i": [
          0,
          0
         ],
         "j": [
          1,
          2
         ],
         "k": [
          2,
          3
         ],
         "opacity": 0.8,
         "showscale": false,
         "type": "mesh3d",
         "x": [
          0.30000000000000004,
          0.4,
          0.4,
          0.30000000000000004
         ],
         "y": [
          0,
          0,
          0.1,
          0.1
         ],
         "z": [
          0,
          0,
          0,
          0
         ]
        },
        {
         "color": "rgb(128,128,128)",
         "flatshading": true,
         "i": [
          0,
          0
         ],
         "j": [
          1,
          2
         ],
         "k": [
          2,
          3
         ],
         "opacity": 0.8,
         "showscale": false,
         "type": "mesh3d",
         "x": [
          0.30000000000000004,
          0.4,
          0.4,
          0.30000000000000004
         ],
         "y": [
          0.1,
          0.1,
          0.2,
          0.2
         ],
         "z": [
          0,
          0,
          0,
          0
         ]
        },
        {
         "color": "rgb(128,128,128)",
         "flatshading": true,
         "i": [
          0,
          0
         ],
         "j": [
          1,
          2
         ],
         "k": [
          2,
          3
         ],
         "opacity": 0.8,
         "showscale": false,
         "type": "mesh3d",
         "x": [
          0.30000000000000004,
          0.4,
          0.4,
          0.30000000000000004
         ],
         "y": [
          0.2,
          0.2,
          0.30000000000000004,
          0.30000000000000004
         ],
         "z": [
          0,
          0,
          0,
          0
         ]
        },
        {
         "color": "rgb(128,128,128)",
         "flatshading": true,
         "i": [
          0,
          0
         ],
         "j": [
          1,
          2
         ],
         "k": [
          2,
          3
         ],
         "opacity": 0.8,
         "showscale": false,
         "type": "mesh3d",
         "x": [
          0.30000000000000004,
          0.4,
          0.4,
          0.30000000000000004
         ],
         "y": [
          0.30000000000000004,
          0.30000000000000004,
          0.4,
          0.4
         ],
         "z": [
          0,
          0,
          0,
          0
         ]
        },
        {
         "color": "rgb(128,128,128)",
         "flatshading": true,
         "i": [
          0,
          0
         ],
         "j": [
          1,
          2
         ],
         "k": [
          2,
          3
         ],
         "opacity": 0.8,
         "showscale": false,
         "type": "mesh3d",
         "x": [
          0.30000000000000004,
          0.4,
          0.4,
          0.30000000000000004
         ],
         "y": [
          0.4,
          0.4,
          0.5,
          0.5
         ],
         "z": [
          0,
          0,
          0,
          0
         ]
        },
        {
         "color": "rgb(128,128,128)",
         "flatshading": true,
         "i": [
          0,
          0
         ],
         "j": [
          1,
          2
         ],
         "k": [
          2,
          3
         ],
         "opacity": 0.8,
         "showscale": false,
         "type": "mesh3d",
         "x": [
          0.30000000000000004,
          0.4,
          0.4,
          0.30000000000000004
         ],
         "y": [
          0.5,
          0.5,
          0.6000000000000001,
          0.6000000000000001
         ],
         "z": [
          0,
          0,
          0,
          0
         ]
        },
        {
         "color": "rgb(128,128,128)",
         "flatshading": true,
         "i": [
          0,
          0
         ],
         "j": [
          1,
          2
         ],
         "k": [
          2,
          3
         ],
         "opacity": 0.8,
         "showscale": false,
         "type": "mesh3d",
         "x": [
          0.30000000000000004,
          0.4,
          0.4,
          0.30000000000000004
         ],
         "y": [
          0.6000000000000001,
          0.6000000000000001,
          0.7000000000000001,
          0.7000000000000001
         ],
         "z": [
          0,
          0,
          0,
          0
         ]
        },
        {
         "color": "rgb(0,0,255)",
         "flatshading": true,
         "i": [
          0,
          0
         ],
         "j": [
          1,
          2
         ],
         "k": [
          2,
          3
         ],
         "opacity": 0.8,
         "showscale": false,
         "type": "mesh3d",
         "x": [
          0.30000000000000004,
          0.4,
          0.4,
          0.30000000000000004
         ],
         "y": [
          0.7000000000000001,
          0.7000000000000001,
          0.8,
          0.8
         ],
         "z": [
          0,
          0,
          0,
          0
         ]
        },
        {
         "color": "rgb(128,128,128)",
         "flatshading": true,
         "i": [
          0,
          0
         ],
         "j": [
          1,
          2
         ],
         "k": [
          2,
          3
         ],
         "opacity": 0.8,
         "showscale": false,
         "type": "mesh3d",
         "x": [
          0.30000000000000004,
          0.4,
          0.4,
          0.30000000000000004
         ],
         "y": [
          0.8,
          0.8,
          0.9,
          0.9
         ],
         "z": [
          0,
          0,
          0,
          0
         ]
        },
        {
         "color": "rgb(128,128,128)",
         "flatshading": true,
         "i": [
          0,
          0
         ],
         "j": [
          1,
          2
         ],
         "k": [
          2,
          3
         ],
         "opacity": 0.8,
         "showscale": false,
         "type": "mesh3d",
         "x": [
          0.30000000000000004,
          0.4,
          0.4,
          0.30000000000000004
         ],
         "y": [
          0.9,
          0.9,
          1,
          1
         ],
         "z": [
          0,
          0,
          0,
          0
         ]
        },
        {
         "color": "rgb(128,128,128)",
         "flatshading": true,
         "i": [
          0,
          0
         ],
         "j": [
          1,
          2
         ],
         "k": [
          2,
          3
         ],
         "opacity": 0.8,
         "showscale": false,
         "type": "mesh3d",
         "x": [
          0.4,
          0.5,
          0.5,
          0.4
         ],
         "y": [
          0,
          0,
          0.1,
          0.1
         ],
         "z": [
          0,
          0,
          0,
          0
         ]
        },
        {
         "color": "rgb(128,128,128)",
         "flatshading": true,
         "i": [
          0,
          0
         ],
         "j": [
          1,
          2
         ],
         "k": [
          2,
          3
         ],
         "opacity": 0.8,
         "showscale": false,
         "type": "mesh3d",
         "x": [
          0.4,
          0.5,
          0.5,
          0.4
         ],
         "y": [
          0.1,
          0.1,
          0.2,
          0.2
         ],
         "z": [
          0,
          0,
          0,
          0
         ]
        },
        {
         "color": "rgb(128,128,128)",
         "flatshading": true,
         "i": [
          0,
          0
         ],
         "j": [
          1,
          2
         ],
         "k": [
          2,
          3
         ],
         "opacity": 0.8,
         "showscale": false,
         "type": "mesh3d",
         "x": [
          0.4,
          0.5,
          0.5,
          0.4
         ],
         "y": [
          0.2,
          0.2,
          0.30000000000000004,
          0.30000000000000004
         ],
         "z": [
          0,
          0,
          0,
          0
         ]
        },
        {
         "color": "rgb(128,128,128)",
         "flatshading": true,
         "i": [
          0,
          0
         ],
         "j": [
          1,
          2
         ],
         "k": [
          2,
          3
         ],
         "opacity": 0.8,
         "showscale": false,
         "type": "mesh3d",
         "x": [
          0.4,
          0.5,
          0.5,
          0.4
         ],
         "y": [
          0.30000000000000004,
          0.30000000000000004,
          0.4,
          0.4
         ],
         "z": [
          0,
          0,
          0,
          0
         ]
        },
        {
         "color": "rgb(128,128,128)",
         "flatshading": true,
         "i": [
          0,
          0
         ],
         "j": [
          1,
          2
         ],
         "k": [
          2,
          3
         ],
         "opacity": 0.8,
         "showscale": false,
         "type": "mesh3d",
         "x": [
          0.4,
          0.5,
          0.5,
          0.4
         ],
         "y": [
          0.4,
          0.4,
          0.5,
          0.5
         ],
         "z": [
          0,
          0,
          0,
          0
         ]
        },
        {
         "color": "rgb(128,128,128)",
         "flatshading": true,
         "i": [
          0,
          0
         ],
         "j": [
          1,
          2
         ],
         "k": [
          2,
          3
         ],
         "opacity": 0.8,
         "showscale": false,
         "type": "mesh3d",
         "x": [
          0.4,
          0.5,
          0.5,
          0.4
         ],
         "y": [
          0.5,
          0.5,
          0.6000000000000001,
          0.6000000000000001
         ],
         "z": [
          0,
          0,
          0,
          0
         ]
        },
        {
         "color": "rgb(128,128,128)",
         "flatshading": true,
         "i": [
          0,
          0
         ],
         "j": [
          1,
          2
         ],
         "k": [
          2,
          3
         ],
         "opacity": 0.8,
         "showscale": false,
         "type": "mesh3d",
         "x": [
          0.4,
          0.5,
          0.5,
          0.4
         ],
         "y": [
          0.6000000000000001,
          0.6000000000000001,
          0.7000000000000001,
          0.7000000000000001
         ],
         "z": [
          0,
          0,
          0,
          0
         ]
        },
        {
         "color": "rgb(0,0,255)",
         "flatshading": true,
         "i": [
          0,
          0
         ],
         "j": [
          1,
          2
         ],
         "k": [
          2,
          3
         ],
         "opacity": 0.8,
         "showscale": false,
         "type": "mesh3d",
         "x": [
          0.4,
          0.5,
          0.5,
          0.4
         ],
         "y": [
          0.7000000000000001,
          0.7000000000000001,
          0.8,
          0.8
         ],
         "z": [
          0,
          0,
          0,
          0
         ]
        },
        {
         "color": "rgb(128,128,128)",
         "flatshading": true,
         "i": [
          0,
          0
         ],
         "j": [
          1,
          2
         ],
         "k": [
          2,
          3
         ],
         "opacity": 0.8,
         "showscale": false,
         "type": "mesh3d",
         "x": [
          0.4,
          0.5,
          0.5,
          0.4
         ],
         "y": [
          0.8,
          0.8,
          0.9,
          0.9
         ],
         "z": [
          0,
          0,
          0,
          0
         ]
        },
        {
         "color": "rgb(128,128,128)",
         "flatshading": true,
         "i": [
          0,
          0
         ],
         "j": [
          1,
          2
         ],
         "k": [
          2,
          3
         ],
         "opacity": 0.8,
         "showscale": false,
         "type": "mesh3d",
         "x": [
          0.4,
          0.5,
          0.5,
          0.4
         ],
         "y": [
          0.9,
          0.9,
          1,
          1
         ],
         "z": [
          0,
          0,
          0,
          0
         ]
        },
        {
         "color": "rgb(0,0,255)",
         "flatshading": true,
         "i": [
          0,
          0
         ],
         "j": [
          1,
          2
         ],
         "k": [
          2,
          3
         ],
         "opacity": 0.8,
         "showscale": false,
         "type": "mesh3d",
         "x": [
          0.5,
          0.6000000000000001,
          0.6000000000000001,
          0.5
         ],
         "y": [
          0,
          0,
          0.1,
          0.1
         ],
         "z": [
          0,
          0,
          0,
          0
         ]
        },
        {
         "color": "rgb(128,128,128)",
         "flatshading": true,
         "i": [
          0,
          0
         ],
         "j": [
          1,
          2
         ],
         "k": [
          2,
          3
         ],
         "opacity": 0.8,
         "showscale": false,
         "type": "mesh3d",
         "x": [
          0.5,
          0.6000000000000001,
          0.6000000000000001,
          0.5
         ],
         "y": [
          0.1,
          0.1,
          0.2,
          0.2
         ],
         "z": [
          0,
          0,
          0,
          0
         ]
        },
        {
         "color": "rgb(128,128,128)",
         "flatshading": true,
         "i": [
          0,
          0
         ],
         "j": [
          1,
          2
         ],
         "k": [
          2,
          3
         ],
         "opacity": 0.8,
         "showscale": false,
         "type": "mesh3d",
         "x": [
          0.5,
          0.6000000000000001,
          0.6000000000000001,
          0.5
         ],
         "y": [
          0.2,
          0.2,
          0.30000000000000004,
          0.30000000000000004
         ],
         "z": [
          0,
          0,
          0,
          0
         ]
        },
        {
         "color": "rgb(128,128,128)",
         "flatshading": true,
         "i": [
          0,
          0
         ],
         "j": [
          1,
          2
         ],
         "k": [
          2,
          3
         ],
         "opacity": 0.8,
         "showscale": false,
         "type": "mesh3d",
         "x": [
          0.5,
          0.6000000000000001,
          0.6000000000000001,
          0.5
         ],
         "y": [
          0.30000000000000004,
          0.30000000000000004,
          0.4,
          0.4
         ],
         "z": [
          0,
          0,
          0,
          0
         ]
        },
        {
         "color": "rgb(128,128,128)",
         "flatshading": true,
         "i": [
          0,
          0
         ],
         "j": [
          1,
          2
         ],
         "k": [
          2,
          3
         ],
         "opacity": 0.8,
         "showscale": false,
         "type": "mesh3d",
         "x": [
          0.5,
          0.6000000000000001,
          0.6000000000000001,
          0.5
         ],
         "y": [
          0.4,
          0.4,
          0.5,
          0.5
         ],
         "z": [
          0,
          0,
          0,
          0
         ]
        },
        {
         "color": "rgb(128,128,128)",
         "flatshading": true,
         "i": [
          0,
          0
         ],
         "j": [
          1,
          2
         ],
         "k": [
          2,
          3
         ],
         "opacity": 0.8,
         "showscale": false,
         "type": "mesh3d",
         "x": [
          0.5,
          0.6000000000000001,
          0.6000000000000001,
          0.5
         ],
         "y": [
          0.5,
          0.5,
          0.6000000000000001,
          0.6000000000000001
         ],
         "z": [
          0,
          0,
          0,
          0
         ]
        },
        {
         "color": "rgb(128,128,128)",
         "flatshading": true,
         "i": [
          0,
          0
         ],
         "j": [
          1,
          2
         ],
         "k": [
          2,
          3
         ],
         "opacity": 0.8,
         "showscale": false,
         "type": "mesh3d",
         "x": [
          0.5,
          0.6000000000000001,
          0.6000000000000001,
          0.5
         ],
         "y": [
          0.6000000000000001,
          0.6000000000000001,
          0.7000000000000001,
          0.7000000000000001
         ],
         "z": [
          0,
          0,
          0,
          0
         ]
        },
        {
         "color": "rgb(0,0,255)",
         "flatshading": true,
         "i": [
          0,
          0
         ],
         "j": [
          1,
          2
         ],
         "k": [
          2,
          3
         ],
         "opacity": 0.8,
         "showscale": false,
         "type": "mesh3d",
         "x": [
          0.5,
          0.6000000000000001,
          0.6000000000000001,
          0.5
         ],
         "y": [
          0.7000000000000001,
          0.7000000000000001,
          0.8,
          0.8
         ],
         "z": [
          0,
          0,
          0,
          0
         ]
        },
        {
         "color": "rgb(128,128,128)",
         "flatshading": true,
         "i": [
          0,
          0
         ],
         "j": [
          1,
          2
         ],
         "k": [
          2,
          3
         ],
         "opacity": 0.8,
         "showscale": false,
         "type": "mesh3d",
         "x": [
          0.5,
          0.6000000000000001,
          0.6000000000000001,
          0.5
         ],
         "y": [
          0.8,
          0.8,
          0.9,
          0.9
         ],
         "z": [
          0,
          0,
          0,
          0
         ]
        },
        {
         "color": "rgb(128,128,128)",
         "flatshading": true,
         "i": [
          0,
          0
         ],
         "j": [
          1,
          2
         ],
         "k": [
          2,
          3
         ],
         "opacity": 0.8,
         "showscale": false,
         "type": "mesh3d",
         "x": [
          0.5,
          0.6000000000000001,
          0.6000000000000001,
          0.5
         ],
         "y": [
          0.9,
          0.9,
          1,
          1
         ],
         "z": [
          0,
          0,
          0,
          0
         ]
        },
        {
         "color": "rgb(0,0,255)",
         "flatshading": true,
         "i": [
          0,
          0
         ],
         "j": [
          1,
          2
         ],
         "k": [
          2,
          3
         ],
         "opacity": 0.8,
         "showscale": false,
         "type": "mesh3d",
         "x": [
          0.6000000000000001,
          0.7000000000000001,
          0.7000000000000001,
          0.6000000000000001
         ],
         "y": [
          0,
          0,
          0.1,
          0.1
         ],
         "z": [
          0,
          0,
          0,
          0
         ]
        },
        {
         "color": "rgb(0,0,255)",
         "flatshading": true,
         "i": [
          0,
          0
         ],
         "j": [
          1,
          2
         ],
         "k": [
          2,
          3
         ],
         "opacity": 0.8,
         "showscale": false,
         "type": "mesh3d",
         "x": [
          0.6000000000000001,
          0.7000000000000001,
          0.7000000000000001,
          0.6000000000000001
         ],
         "y": [
          0.1,
          0.1,
          0.2,
          0.2
         ],
         "z": [
          0,
          0,
          0,
          0
         ]
        },
        {
         "color": "rgb(128,128,128)",
         "flatshading": true,
         "i": [
          0,
          0
         ],
         "j": [
          1,
          2
         ],
         "k": [
          2,
          3
         ],
         "opacity": 0.8,
         "showscale": false,
         "type": "mesh3d",
         "x": [
          0.6000000000000001,
          0.7000000000000001,
          0.7000000000000001,
          0.6000000000000001
         ],
         "y": [
          0.2,
          0.2,
          0.30000000000000004,
          0.30000000000000004
         ],
         "z": [
          0,
          0,
          0,
          0
         ]
        },
        {
         "color": "rgb(128,128,128)",
         "flatshading": true,
         "i": [
          0,
          0
         ],
         "j": [
          1,
          2
         ],
         "k": [
          2,
          3
         ],
         "opacity": 0.8,
         "showscale": false,
         "type": "mesh3d",
         "x": [
          0.6000000000000001,
          0.7000000000000001,
          0.7000000000000001,
          0.6000000000000001
         ],
         "y": [
          0.30000000000000004,
          0.30000000000000004,
          0.4,
          0.4
         ],
         "z": [
          0,
          0,
          0,
          0
         ]
        },
        {
         "color": "rgb(128,128,128)",
         "flatshading": true,
         "i": [
          0,
          0
         ],
         "j": [
          1,
          2
         ],
         "k": [
          2,
          3
         ],
         "opacity": 0.8,
         "showscale": false,
         "type": "mesh3d",
         "x": [
          0.6000000000000001,
          0.7000000000000001,
          0.7000000000000001,
          0.6000000000000001
         ],
         "y": [
          0.4,
          0.4,
          0.5,
          0.5
         ],
         "z": [
          0,
          0,
          0,
          0
         ]
        },
        {
         "color": "rgb(128,128,128)",
         "flatshading": true,
         "i": [
          0,
          0
         ],
         "j": [
          1,
          2
         ],
         "k": [
          2,
          3
         ],
         "opacity": 0.8,
         "showscale": false,
         "type": "mesh3d",
         "x": [
          0.6000000000000001,
          0.7000000000000001,
          0.7000000000000001,
          0.6000000000000001
         ],
         "y": [
          0.5,
          0.5,
          0.6000000000000001,
          0.6000000000000001
         ],
         "z": [
          0,
          0,
          0,
          0
         ]
        },
        {
         "color": "rgb(0,0,255)",
         "flatshading": true,
         "i": [
          0,
          0
         ],
         "j": [
          1,
          2
         ],
         "k": [
          2,
          3
         ],
         "opacity": 0.8,
         "showscale": false,
         "type": "mesh3d",
         "x": [
          0.6000000000000001,
          0.7000000000000001,
          0.7000000000000001,
          0.6000000000000001
         ],
         "y": [
          0.6000000000000001,
          0.6000000000000001,
          0.7000000000000001,
          0.7000000000000001
         ],
         "z": [
          0,
          0,
          0,
          0
         ]
        },
        {
         "color": "rgb(0,0,255)",
         "flatshading": true,
         "i": [
          0,
          0
         ],
         "j": [
          1,
          2
         ],
         "k": [
          2,
          3
         ],
         "opacity": 0.8,
         "showscale": false,
         "type": "mesh3d",
         "x": [
          0.6000000000000001,
          0.7000000000000001,
          0.7000000000000001,
          0.6000000000000001
         ],
         "y": [
          0.7000000000000001,
          0.7000000000000001,
          0.8,
          0.8
         ],
         "z": [
          0,
          0,
          0,
          0
         ]
        },
        {
         "color": "rgb(0,0,255)",
         "flatshading": true,
         "i": [
          0,
          0
         ],
         "j": [
          1,
          2
         ],
         "k": [
          2,
          3
         ],
         "opacity": 0.8,
         "showscale": false,
         "type": "mesh3d",
         "x": [
          0.6000000000000001,
          0.7000000000000001,
          0.7000000000000001,
          0.6000000000000001
         ],
         "y": [
          0.8,
          0.8,
          0.9,
          0.9
         ],
         "z": [
          0,
          0,
          0,
          0
         ]
        },
        {
         "color": "rgb(128,128,128)",
         "flatshading": true,
         "i": [
          0,
          0
         ],
         "j": [
          1,
          2
         ],
         "k": [
          2,
          3
         ],
         "opacity": 0.8,
         "showscale": false,
         "type": "mesh3d",
         "x": [
          0.6000000000000001,
          0.7000000000000001,
          0.7000000000000001,
          0.6000000000000001
         ],
         "y": [
          0.9,
          0.9,
          1,
          1
         ],
         "z": [
          0,
          0,
          0,
          0
         ]
        },
        {
         "color": "rgb(128,128,128)",
         "flatshading": true,
         "i": [
          0,
          0
         ],
         "j": [
          1,
          2
         ],
         "k": [
          2,
          3
         ],
         "opacity": 0.8,
         "showscale": false,
         "type": "mesh3d",
         "x": [
          0.7000000000000001,
          0.8,
          0.8,
          0.7000000000000001
         ],
         "y": [
          0,
          0,
          0.1,
          0.1
         ],
         "z": [
          0,
          0,
          0,
          0
         ]
        },
        {
         "color": "rgb(128,128,128)",
         "flatshading": true,
         "i": [
          0,
          0
         ],
         "j": [
          1,
          2
         ],
         "k": [
          2,
          3
         ],
         "opacity": 0.8,
         "showscale": false,
         "type": "mesh3d",
         "x": [
          0.7000000000000001,
          0.8,
          0.8,
          0.7000000000000001
         ],
         "y": [
          0.1,
          0.1,
          0.2,
          0.2
         ],
         "z": [
          0,
          0,
          0,
          0
         ]
        },
        {
         "color": "rgb(128,128,128)",
         "flatshading": true,
         "i": [
          0,
          0
         ],
         "j": [
          1,
          2
         ],
         "k": [
          2,
          3
         ],
         "opacity": 0.8,
         "showscale": false,
         "type": "mesh3d",
         "x": [
          0.7000000000000001,
          0.8,
          0.8,
          0.7000000000000001
         ],
         "y": [
          0.2,
          0.2,
          0.30000000000000004,
          0.30000000000000004
         ],
         "z": [
          0,
          0,
          0,
          0
         ]
        },
        {
         "color": "rgb(128,128,128)",
         "flatshading": true,
         "i": [
          0,
          0
         ],
         "j": [
          1,
          2
         ],
         "k": [
          2,
          3
         ],
         "opacity": 0.8,
         "showscale": false,
         "type": "mesh3d",
         "x": [
          0.7000000000000001,
          0.8,
          0.8,
          0.7000000000000001
         ],
         "y": [
          0.30000000000000004,
          0.30000000000000004,
          0.4,
          0.4
         ],
         "z": [
          0,
          0,
          0,
          0
         ]
        },
        {
         "color": "rgb(0,0,255)",
         "flatshading": true,
         "i": [
          0,
          0
         ],
         "j": [
          1,
          2
         ],
         "k": [
          2,
          3
         ],
         "opacity": 0.8,
         "showscale": false,
         "type": "mesh3d",
         "x": [
          0.7000000000000001,
          0.8,
          0.8,
          0.7000000000000001
         ],
         "y": [
          0.4,
          0.4,
          0.5,
          0.5
         ],
         "z": [
          0,
          0,
          0,
          0
         ]
        },
        {
         "color": "rgb(128,128,128)",
         "flatshading": true,
         "i": [
          0,
          0
         ],
         "j": [
          1,
          2
         ],
         "k": [
          2,
          3
         ],
         "opacity": 0.8,
         "showscale": false,
         "type": "mesh3d",
         "x": [
          0.7000000000000001,
          0.8,
          0.8,
          0.7000000000000001
         ],
         "y": [
          0.5,
          0.5,
          0.6000000000000001,
          0.6000000000000001
         ],
         "z": [
          0,
          0,
          0,
          0
         ]
        },
        {
         "color": "rgb(0,0,255)",
         "flatshading": true,
         "i": [
          0,
          0
         ],
         "j": [
          1,
          2
         ],
         "k": [
          2,
          3
         ],
         "opacity": 0.8,
         "showscale": false,
         "type": "mesh3d",
         "x": [
          0.7000000000000001,
          0.8,
          0.8,
          0.7000000000000001
         ],
         "y": [
          0.6000000000000001,
          0.6000000000000001,
          0.7000000000000001,
          0.7000000000000001
         ],
         "z": [
          0,
          0,
          0,
          0
         ]
        },
        {
         "color": "rgb(128,128,128)",
         "flatshading": true,
         "i": [
          0,
          0
         ],
         "j": [
          1,
          2
         ],
         "k": [
          2,
          3
         ],
         "opacity": 0.8,
         "showscale": false,
         "type": "mesh3d",
         "x": [
          0.7000000000000001,
          0.8,
          0.8,
          0.7000000000000001
         ],
         "y": [
          0.7000000000000001,
          0.7000000000000001,
          0.8,
          0.8
         ],
         "z": [
          0,
          0,
          0,
          0
         ]
        },
        {
         "color": "rgb(0,0,255)",
         "flatshading": true,
         "i": [
          0,
          0
         ],
         "j": [
          1,
          2
         ],
         "k": [
          2,
          3
         ],
         "opacity": 0.8,
         "showscale": false,
         "type": "mesh3d",
         "x": [
          0.7000000000000001,
          0.8,
          0.8,
          0.7000000000000001
         ],
         "y": [
          0.8,
          0.8,
          0.9,
          0.9
         ],
         "z": [
          0,
          0,
          0,
          0
         ]
        },
        {
         "color": "rgb(0,0,255)",
         "flatshading": true,
         "i": [
          0,
          0
         ],
         "j": [
          1,
          2
         ],
         "k": [
          2,
          3
         ],
         "opacity": 0.8,
         "showscale": false,
         "type": "mesh3d",
         "x": [
          0.7000000000000001,
          0.8,
          0.8,
          0.7000000000000001
         ],
         "y": [
          0.9,
          0.9,
          1,
          1
         ],
         "z": [
          0,
          0,
          0,
          0
         ]
        },
        {
         "color": "rgb(0,0,255)",
         "flatshading": true,
         "i": [
          0,
          0
         ],
         "j": [
          1,
          2
         ],
         "k": [
          2,
          3
         ],
         "opacity": 0.8,
         "showscale": false,
         "type": "mesh3d",
         "x": [
          0.8,
          0.9,
          0.9,
          0.8
         ],
         "y": [
          0,
          0,
          0.1,
          0.1
         ],
         "z": [
          0,
          0,
          0,
          0
         ]
        },
        {
         "color": "rgb(0,0,255)",
         "flatshading": true,
         "i": [
          0,
          0
         ],
         "j": [
          1,
          2
         ],
         "k": [
          2,
          3
         ],
         "opacity": 0.8,
         "showscale": false,
         "type": "mesh3d",
         "x": [
          0.8,
          0.9,
          0.9,
          0.8
         ],
         "y": [
          0.1,
          0.1,
          0.2,
          0.2
         ],
         "z": [
          0,
          0,
          0,
          0
         ]
        },
        {
         "color": "rgb(0,0,255)",
         "flatshading": true,
         "i": [
          0,
          0
         ],
         "j": [
          1,
          2
         ],
         "k": [
          2,
          3
         ],
         "opacity": 0.8,
         "showscale": false,
         "type": "mesh3d",
         "x": [
          0.8,
          0.9,
          0.9,
          0.8
         ],
         "y": [
          0.2,
          0.2,
          0.30000000000000004,
          0.30000000000000004
         ],
         "z": [
          0,
          0,
          0,
          0
         ]
        },
        {
         "color": "rgb(128,128,128)",
         "flatshading": true,
         "i": [
          0,
          0
         ],
         "j": [
          1,
          2
         ],
         "k": [
          2,
          3
         ],
         "opacity": 0.8,
         "showscale": false,
         "type": "mesh3d",
         "x": [
          0.8,
          0.9,
          0.9,
          0.8
         ],
         "y": [
          0.30000000000000004,
          0.30000000000000004,
          0.4,
          0.4
         ],
         "z": [
          0,
          0,
          0,
          0
         ]
        },
        {
         "color": "rgb(0,0,255)",
         "flatshading": true,
         "i": [
          0,
          0
         ],
         "j": [
          1,
          2
         ],
         "k": [
          2,
          3
         ],
         "opacity": 0.8,
         "showscale": false,
         "type": "mesh3d",
         "x": [
          0.8,
          0.9,
          0.9,
          0.8
         ],
         "y": [
          0.4,
          0.4,
          0.5,
          0.5
         ],
         "z": [
          0,
          0,
          0,
          0
         ]
        },
        {
         "color": "rgb(128,128,128)",
         "flatshading": true,
         "i": [
          0,
          0
         ],
         "j": [
          1,
          2
         ],
         "k": [
          2,
          3
         ],
         "opacity": 0.8,
         "showscale": false,
         "type": "mesh3d",
         "x": [
          0.8,
          0.9,
          0.9,
          0.8
         ],
         "y": [
          0.5,
          0.5,
          0.6000000000000001,
          0.6000000000000001
         ],
         "z": [
          0,
          0,
          0,
          0
         ]
        },
        {
         "color": "rgb(128,128,128)",
         "flatshading": true,
         "i": [
          0,
          0
         ],
         "j": [
          1,
          2
         ],
         "k": [
          2,
          3
         ],
         "opacity": 0.8,
         "showscale": false,
         "type": "mesh3d",
         "x": [
          0.8,
          0.9,
          0.9,
          0.8
         ],
         "y": [
          0.6000000000000001,
          0.6000000000000001,
          0.7000000000000001,
          0.7000000000000001
         ],
         "z": [
          0,
          0,
          0,
          0
         ]
        },
        {
         "color": "rgb(128,128,128)",
         "flatshading": true,
         "i": [
          0,
          0
         ],
         "j": [
          1,
          2
         ],
         "k": [
          2,
          3
         ],
         "opacity": 0.8,
         "showscale": false,
         "type": "mesh3d",
         "x": [
          0.8,
          0.9,
          0.9,
          0.8
         ],
         "y": [
          0.7000000000000001,
          0.7000000000000001,
          0.8,
          0.8
         ],
         "z": [
          0,
          0,
          0,
          0
         ]
        },
        {
         "color": "rgb(0,0,255)",
         "flatshading": true,
         "i": [
          0,
          0
         ],
         "j": [
          1,
          2
         ],
         "k": [
          2,
          3
         ],
         "opacity": 0.8,
         "showscale": false,
         "type": "mesh3d",
         "x": [
          0.8,
          0.9,
          0.9,
          0.8
         ],
         "y": [
          0.8,
          0.8,
          0.9,
          0.9
         ],
         "z": [
          0,
          0,
          0,
          0
         ]
        },
        {
         "color": "rgb(0,0,255)",
         "flatshading": true,
         "i": [
          0,
          0
         ],
         "j": [
          1,
          2
         ],
         "k": [
          2,
          3
         ],
         "opacity": 0.8,
         "showscale": false,
         "type": "mesh3d",
         "x": [
          0.8,
          0.9,
          0.9,
          0.8
         ],
         "y": [
          0.9,
          0.9,
          1,
          1
         ],
         "z": [
          0,
          0,
          0,
          0
         ]
        },
        {
         "color": "rgb(0,0,255)",
         "flatshading": true,
         "i": [
          0,
          0
         ],
         "j": [
          1,
          2
         ],
         "k": [
          2,
          3
         ],
         "opacity": 0.8,
         "showscale": false,
         "type": "mesh3d",
         "x": [
          0.9,
          1,
          1,
          0.9
         ],
         "y": [
          0,
          0,
          0.1,
          0.1
         ],
         "z": [
          0,
          0,
          0,
          0
         ]
        },
        {
         "color": "rgb(0,0,255)",
         "flatshading": true,
         "i": [
          0,
          0
         ],
         "j": [
          1,
          2
         ],
         "k": [
          2,
          3
         ],
         "opacity": 0.8,
         "showscale": false,
         "type": "mesh3d",
         "x": [
          0.9,
          1,
          1,
          0.9
         ],
         "y": [
          0.1,
          0.1,
          0.2,
          0.2
         ],
         "z": [
          0,
          0,
          0,
          0
         ]
        },
        {
         "color": "rgb(0,0,255)",
         "flatshading": true,
         "i": [
          0,
          0
         ],
         "j": [
          1,
          2
         ],
         "k": [
          2,
          3
         ],
         "opacity": 0.8,
         "showscale": false,
         "type": "mesh3d",
         "x": [
          0.9,
          1,
          1,
          0.9
         ],
         "y": [
          0.2,
          0.2,
          0.30000000000000004,
          0.30000000000000004
         ],
         "z": [
          0,
          0,
          0,
          0
         ]
        },
        {
         "color": "rgb(128,128,128)",
         "flatshading": true,
         "i": [
          0,
          0
         ],
         "j": [
          1,
          2
         ],
         "k": [
          2,
          3
         ],
         "opacity": 0.8,
         "showscale": false,
         "type": "mesh3d",
         "x": [
          0.9,
          1,
          1,
          0.9
         ],
         "y": [
          0.30000000000000004,
          0.30000000000000004,
          0.4,
          0.4
         ],
         "z": [
          0,
          0,
          0,
          0
         ]
        },
        {
         "color": "rgb(128,128,128)",
         "flatshading": true,
         "i": [
          0,
          0
         ],
         "j": [
          1,
          2
         ],
         "k": [
          2,
          3
         ],
         "opacity": 0.8,
         "showscale": false,
         "type": "mesh3d",
         "x": [
          0.9,
          1,
          1,
          0.9
         ],
         "y": [
          0.4,
          0.4,
          0.5,
          0.5
         ],
         "z": [
          0,
          0,
          0,
          0
         ]
        },
        {
         "color": "rgb(128,128,128)",
         "flatshading": true,
         "i": [
          0,
          0
         ],
         "j": [
          1,
          2
         ],
         "k": [
          2,
          3
         ],
         "opacity": 0.8,
         "showscale": false,
         "type": "mesh3d",
         "x": [
          0.9,
          1,
          1,
          0.9
         ],
         "y": [
          0.5,
          0.5,
          0.6000000000000001,
          0.6000000000000001
         ],
         "z": [
          0,
          0,
          0,
          0
         ]
        },
        {
         "color": "rgb(0,0,255)",
         "flatshading": true,
         "i": [
          0,
          0
         ],
         "j": [
          1,
          2
         ],
         "k": [
          2,
          3
         ],
         "opacity": 0.8,
         "showscale": false,
         "type": "mesh3d",
         "x": [
          0.9,
          1,
          1,
          0.9
         ],
         "y": [
          0.6000000000000001,
          0.6000000000000001,
          0.7000000000000001,
          0.7000000000000001
         ],
         "z": [
          0,
          0,
          0,
          0
         ]
        },
        {
         "color": "rgb(0,0,255)",
         "flatshading": true,
         "i": [
          0,
          0
         ],
         "j": [
          1,
          2
         ],
         "k": [
          2,
          3
         ],
         "opacity": 0.8,
         "showscale": false,
         "type": "mesh3d",
         "x": [
          0.9,
          1,
          1,
          0.9
         ],
         "y": [
          0.7000000000000001,
          0.7000000000000001,
          0.8,
          0.8
         ],
         "z": [
          0,
          0,
          0,
          0
         ]
        },
        {
         "color": "rgb(0,0,255)",
         "flatshading": true,
         "i": [
          0,
          0
         ],
         "j": [
          1,
          2
         ],
         "k": [
          2,
          3
         ],
         "opacity": 0.8,
         "showscale": false,
         "type": "mesh3d",
         "x": [
          0.9,
          1,
          1,
          0.9
         ],
         "y": [
          0.8,
          0.8,
          0.9,
          0.9
         ],
         "z": [
          0,
          0,
          0,
          0
         ]
        },
        {
         "color": "rgb(0,0,255)",
         "flatshading": true,
         "i": [
          0,
          0
         ],
         "j": [
          1,
          2
         ],
         "k": [
          2,
          3
         ],
         "opacity": 0.8,
         "showscale": false,
         "type": "mesh3d",
         "x": [
          0.9,
          1,
          1,
          0.9
         ],
         "y": [
          0.9,
          0.9,
          1,
          1
         ],
         "z": [
          0,
          0,
          0,
          0
         ]
        }
       ],
       "layout": {
        "height": 1500,
        "scene": {
         "camera": {
          "center": {
           "x": 0,
           "y": 0,
           "z": 0
          },
          "eye": {
           "x": 1,
           "y": 1.1,
           "z": 0.8
          }
         },
         "xaxis": {
          "backgroundcolor": "white",
          "gridcolor": "gray",
          "range": [
           -1,
           1
          ],
          "showticklabels": false,
          "title": {
           "text": ""
          }
         },
         "yaxis": {
          "backgroundcolor": "white",
          "gridcolor": "gray",
          "range": [
           -1,
           1
          ],
          "showticklabels": false,
          "title": {
           "text": ""
          }
         },
         "zaxis": {
          "backgroundcolor": "white",
          "gridcolor": "gray",
          "range": [
           -22.60862769364634,
           17.63692783785938
          ],
          "showticklabels": false,
          "title": {
           "text": ""
          }
         }
        },
        "showlegend": false,
        "template": {
         "data": {
          "bar": [
           {
            "error_x": {
             "color": "#2a3f5f"
            },
            "error_y": {
             "color": "#2a3f5f"
            },
            "marker": {
             "line": {
              "color": "#E5ECF6",
              "width": 0.5
             },
             "pattern": {
              "fillmode": "overlay",
              "size": 10,
              "solidity": 0.2
             }
            },
            "type": "bar"
           }
          ],
          "barpolar": [
           {
            "marker": {
             "line": {
              "color": "#E5ECF6",
              "width": 0.5
             },
             "pattern": {
              "fillmode": "overlay",
              "size": 10,
              "solidity": 0.2
             }
            },
            "type": "barpolar"
           }
          ],
          "carpet": [
           {
            "aaxis": {
             "endlinecolor": "#2a3f5f",
             "gridcolor": "white",
             "linecolor": "white",
             "minorgridcolor": "white",
             "startlinecolor": "#2a3f5f"
            },
            "baxis": {
             "endlinecolor": "#2a3f5f",
             "gridcolor": "white",
             "linecolor": "white",
             "minorgridcolor": "white",
             "startlinecolor": "#2a3f5f"
            },
            "type": "carpet"
           }
          ],
          "choropleth": [
           {
            "colorbar": {
             "outlinewidth": 0,
             "ticks": ""
            },
            "type": "choropleth"
           }
          ],
          "contour": [
           {
            "colorbar": {
             "outlinewidth": 0,
             "ticks": ""
            },
            "colorscale": [
             [
              0,
              "#0d0887"
             ],
             [
              0.1111111111111111,
              "#46039f"
             ],
             [
              0.2222222222222222,
              "#7201a8"
             ],
             [
              0.3333333333333333,
              "#9c179e"
             ],
             [
              0.4444444444444444,
              "#bd3786"
             ],
             [
              0.5555555555555556,
              "#d8576b"
             ],
             [
              0.6666666666666666,
              "#ed7953"
             ],
             [
              0.7777777777777778,
              "#fb9f3a"
             ],
             [
              0.8888888888888888,
              "#fdca26"
             ],
             [
              1,
              "#f0f921"
             ]
            ],
            "type": "contour"
           }
          ],
          "contourcarpet": [
           {
            "colorbar": {
             "outlinewidth": 0,
             "ticks": ""
            },
            "type": "contourcarpet"
           }
          ],
          "heatmap": [
           {
            "colorbar": {
             "outlinewidth": 0,
             "ticks": ""
            },
            "colorscale": [
             [
              0,
              "#0d0887"
             ],
             [
              0.1111111111111111,
              "#46039f"
             ],
             [
              0.2222222222222222,
              "#7201a8"
             ],
             [
              0.3333333333333333,
              "#9c179e"
             ],
             [
              0.4444444444444444,
              "#bd3786"
             ],
             [
              0.5555555555555556,
              "#d8576b"
             ],
             [
              0.6666666666666666,
              "#ed7953"
             ],
             [
              0.7777777777777778,
              "#fb9f3a"
             ],
             [
              0.8888888888888888,
              "#fdca26"
             ],
             [
              1,
              "#f0f921"
             ]
            ],
            "type": "heatmap"
           }
          ],
          "histogram": [
           {
            "marker": {
             "pattern": {
              "fillmode": "overlay",
              "size": 10,
              "solidity": 0.2
             }
            },
            "type": "histogram"
           }
          ],
          "histogram2d": [
           {
            "colorbar": {
             "outlinewidth": 0,
             "ticks": ""
            },
            "colorscale": [
             [
              0,
              "#0d0887"
             ],
             [
              0.1111111111111111,
              "#46039f"
             ],
             [
              0.2222222222222222,
              "#7201a8"
             ],
             [
              0.3333333333333333,
              "#9c179e"
             ],
             [
              0.4444444444444444,
              "#bd3786"
             ],
             [
              0.5555555555555556,
              "#d8576b"
             ],
             [
              0.6666666666666666,
              "#ed7953"
             ],
             [
              0.7777777777777778,
              "#fb9f3a"
             ],
             [
              0.8888888888888888,
              "#fdca26"
             ],
             [
              1,
              "#f0f921"
             ]
            ],
            "type": "histogram2d"
           }
          ],
          "histogram2dcontour": [
           {
            "colorbar": {
             "outlinewidth": 0,
             "ticks": ""
            },
            "colorscale": [
             [
              0,
              "#0d0887"
             ],
             [
              0.1111111111111111,
              "#46039f"
             ],
             [
              0.2222222222222222,
              "#7201a8"
             ],
             [
              0.3333333333333333,
              "#9c179e"
             ],
             [
              0.4444444444444444,
              "#bd3786"
             ],
             [
              0.5555555555555556,
              "#d8576b"
             ],
             [
              0.6666666666666666,
              "#ed7953"
             ],
             [
              0.7777777777777778,
              "#fb9f3a"
             ],
             [
              0.8888888888888888,
              "#fdca26"
             ],
             [
              1,
              "#f0f921"
             ]
            ],
            "type": "histogram2dcontour"
           }
          ],
          "mesh3d": [
           {
            "colorbar": {
             "outlinewidth": 0,
             "ticks": ""
            },
            "type": "mesh3d"
           }
          ],
          "parcoords": [
           {
            "line": {
             "colorbar": {
              "outlinewidth": 0,
              "ticks": ""
             }
            },
            "type": "parcoords"
           }
          ],
          "pie": [
           {
            "automargin": true,
            "type": "pie"
           }
          ],
          "scatter": [
           {
            "fillpattern": {
             "fillmode": "overlay",
             "size": 10,
             "solidity": 0.2
            },
            "type": "scatter"
           }
          ],
          "scatter3d": [
           {
            "line": {
             "colorbar": {
              "outlinewidth": 0,
              "ticks": ""
             }
            },
            "marker": {
             "colorbar": {
              "outlinewidth": 0,
              "ticks": ""
             }
            },
            "type": "scatter3d"
           }
          ],
          "scattercarpet": [
           {
            "marker": {
             "colorbar": {
              "outlinewidth": 0,
              "ticks": ""
             }
            },
            "type": "scattercarpet"
           }
          ],
          "scattergeo": [
           {
            "marker": {
             "colorbar": {
              "outlinewidth": 0,
              "ticks": ""
             }
            },
            "type": "scattergeo"
           }
          ],
          "scattergl": [
           {
            "marker": {
             "colorbar": {
              "outlinewidth": 0,
              "ticks": ""
             }
            },
            "type": "scattergl"
           }
          ],
          "scattermap": [
           {
            "marker": {
             "colorbar": {
              "outlinewidth": 0,
              "ticks": ""
             }
            },
            "type": "scattermap"
           }
          ],
          "scattermapbox": [
           {
            "marker": {
             "colorbar": {
              "outlinewidth": 0,
              "ticks": ""
             }
            },
            "type": "scattermapbox"
           }
          ],
          "scatterpolar": [
           {
            "marker": {
             "colorbar": {
              "outlinewidth": 0,
              "ticks": ""
             }
            },
            "type": "scatterpolar"
           }
          ],
          "scatterpolargl": [
           {
            "marker": {
             "colorbar": {
              "outlinewidth": 0,
              "ticks": ""
             }
            },
            "type": "scatterpolargl"
           }
          ],
          "scatterternary": [
           {
            "marker": {
             "colorbar": {
              "outlinewidth": 0,
              "ticks": ""
             }
            },
            "type": "scatterternary"
           }
          ],
          "surface": [
           {
            "colorbar": {
             "outlinewidth": 0,
             "ticks": ""
            },
            "colorscale": [
             [
              0,
              "#0d0887"
             ],
             [
              0.1111111111111111,
              "#46039f"
             ],
             [
              0.2222222222222222,
              "#7201a8"
             ],
             [
              0.3333333333333333,
              "#9c179e"
             ],
             [
              0.4444444444444444,
              "#bd3786"
             ],
             [
              0.5555555555555556,
              "#d8576b"
             ],
             [
              0.6666666666666666,
              "#ed7953"
             ],
             [
              0.7777777777777778,
              "#fb9f3a"
             ],
             [
              0.8888888888888888,
              "#fdca26"
             ],
             [
              1,
              "#f0f921"
             ]
            ],
            "type": "surface"
           }
          ],
          "table": [
           {
            "cells": {
             "fill": {
              "color": "#EBF0F8"
             },
             "line": {
              "color": "white"
             }
            },
            "header": {
             "fill": {
              "color": "#C8D4E3"
             },
             "line": {
              "color": "white"
             }
            },
            "type": "table"
           }
          ]
         },
         "layout": {
          "annotationdefaults": {
           "arrowcolor": "#2a3f5f",
           "arrowhead": 0,
           "arrowwidth": 1
          },
          "autotypenumbers": "strict",
          "coloraxis": {
           "colorbar": {
            "outlinewidth": 0,
            "ticks": ""
           }
          },
          "colorscale": {
           "diverging": [
            [
             0,
             "#8e0152"
            ],
            [
             0.1,
             "#c51b7d"
            ],
            [
             0.2,
             "#de77ae"
            ],
            [
             0.3,
             "#f1b6da"
            ],
            [
             0.4,
             "#fde0ef"
            ],
            [
             0.5,
             "#f7f7f7"
            ],
            [
             0.6,
             "#e6f5d0"
            ],
            [
             0.7,
             "#b8e186"
            ],
            [
             0.8,
             "#7fbc41"
            ],
            [
             0.9,
             "#4d9221"
            ],
            [
             1,
             "#276419"
            ]
           ],
           "sequential": [
            [
             0,
             "#0d0887"
            ],
            [
             0.1111111111111111,
             "#46039f"
            ],
            [
             0.2222222222222222,
             "#7201a8"
            ],
            [
             0.3333333333333333,
             "#9c179e"
            ],
            [
             0.4444444444444444,
             "#bd3786"
            ],
            [
             0.5555555555555556,
             "#d8576b"
            ],
            [
             0.6666666666666666,
             "#ed7953"
            ],
            [
             0.7777777777777778,
             "#fb9f3a"
            ],
            [
             0.8888888888888888,
             "#fdca26"
            ],
            [
             1,
             "#f0f921"
            ]
           ],
           "sequentialminus": [
            [
             0,
             "#0d0887"
            ],
            [
             0.1111111111111111,
             "#46039f"
            ],
            [
             0.2222222222222222,
             "#7201a8"
            ],
            [
             0.3333333333333333,
             "#9c179e"
            ],
            [
             0.4444444444444444,
             "#bd3786"
            ],
            [
             0.5555555555555556,
             "#d8576b"
            ],
            [
             0.6666666666666666,
             "#ed7953"
            ],
            [
             0.7777777777777778,
             "#fb9f3a"
            ],
            [
             0.8888888888888888,
             "#fdca26"
            ],
            [
             1,
             "#f0f921"
            ]
           ]
          },
          "colorway": [
           "#636efa",
           "#EF553B",
           "#00cc96",
           "#ab63fa",
           "#FFA15A",
           "#19d3f3",
           "#FF6692",
           "#B6E880",
           "#FF97FF",
           "#FECB52"
          ],
          "font": {
           "color": "#2a3f5f"
          },
          "geo": {
           "bgcolor": "white",
           "lakecolor": "white",
           "landcolor": "#E5ECF6",
           "showlakes": true,
           "showland": true,
           "subunitcolor": "white"
          },
          "hoverlabel": {
           "align": "left"
          },
          "hovermode": "closest",
          "mapbox": {
           "style": "light"
          },
          "paper_bgcolor": "white",
          "plot_bgcolor": "#E5ECF6",
          "polar": {
           "angularaxis": {
            "gridcolor": "white",
            "linecolor": "white",
            "ticks": ""
           },
           "bgcolor": "#E5ECF6",
           "radialaxis": {
            "gridcolor": "white",
            "linecolor": "white",
            "ticks": ""
           }
          },
          "scene": {
           "xaxis": {
            "backgroundcolor": "#E5ECF6",
            "gridcolor": "white",
            "gridwidth": 2,
            "linecolor": "white",
            "showbackground": true,
            "ticks": "",
            "zerolinecolor": "white"
           },
           "yaxis": {
            "backgroundcolor": "#E5ECF6",
            "gridcolor": "white",
            "gridwidth": 2,
            "linecolor": "white",
            "showbackground": true,
            "ticks": "",
            "zerolinecolor": "white"
           },
           "zaxis": {
            "backgroundcolor": "#E5ECF6",
            "gridcolor": "white",
            "gridwidth": 2,
            "linecolor": "white",
            "showbackground": true,
            "ticks": "",
            "zerolinecolor": "white"
           }
          },
          "shapedefaults": {
           "line": {
            "color": "#2a3f5f"
           }
          },
          "ternary": {
           "aaxis": {
            "gridcolor": "white",
            "linecolor": "white",
            "ticks": ""
           },
           "baxis": {
            "gridcolor": "white",
            "linecolor": "white",
            "ticks": ""
           },
           "bgcolor": "#E5ECF6",
           "caxis": {
            "gridcolor": "white",
            "linecolor": "white",
            "ticks": ""
           }
          },
          "title": {
           "x": 0.05
          },
          "xaxis": {
           "automargin": true,
           "gridcolor": "white",
           "linecolor": "white",
           "ticks": "",
           "title": {
            "standoff": 15
           },
           "zerolinecolor": "white",
           "zerolinewidth": 2
          },
          "yaxis": {
           "automargin": true,
           "gridcolor": "white",
           "linecolor": "white",
           "ticks": "",
           "title": {
            "standoff": 15
           },
           "zerolinecolor": "white",
           "zerolinewidth": 2
          }
         }
        },
        "width": 1500,
        "xaxis": {
         "automargin": true
        },
        "yaxis": {
         "automargin": true
        }
       }
      }
     },
     "metadata": {},
     "output_type": "display_data"
    }
   ],
   "source": [
    "import numpy as np\n",
    "import plotly.graph_objects as go\n",
    "from scipy.spatial.distance import cdist\n",
    "from scipy.special import kv, gamma\n",
    "\n",
    "np.random.seed(421)\n",
    "\n",
    "def matern_covariance(X, nu=3, length_scale=0.2, sigma=6.0):\n",
    "    \"\"\"\n",
    "    Compute the Matern covariance matrix for an array X of 2D points.\n",
    "    \"\"\"\n",
    "    dists = cdist(X, X, metric='euclidean')\n",
    "    if nu == 0.5:\n",
    "        cov = sigma**2 * np.exp(-dists / length_scale)\n",
    "    elif nu == 1.5:\n",
    "        sqrt3 = np.sqrt(3)\n",
    "        cov = sigma**2 * (1 + sqrt3 * dists / length_scale) * np.exp(-sqrt3 * dists / length_scale)\n",
    "    elif nu == 2.5:\n",
    "        sqrt5 = np.sqrt(5)\n",
    "        cov = sigma**2 * (1 + sqrt5 * dists / length_scale + 5 * dists**2/(3*length_scale**2)) * np.exp(-sqrt5 * dists / length_scale)\n",
    "    else:\n",
    "        factor = np.sqrt(2 * nu) * dists / length_scale\n",
    "        cov = sigma**2 * (2**(1 - nu) / gamma(nu)) * (factor)**nu * kv(nu, factor)\n",
    "        cov[dists == 0.0] = sigma**2\n",
    "    return cov\n",
    "\n",
    "# 1. Generate the dense GP on a 51×51 grid over [0,1]².\n",
    "grid_points_dense = 51\n",
    "x_dense = np.linspace(0, 1, grid_points_dense)\n",
    "y_dense = np.linspace(0, 1, grid_points_dense)\n",
    "X_dense, Y_dense = np.meshgrid(x_dense, y_dense)\n",
    "dense_points = np.column_stack([X_dense.ravel(), Y_dense.ravel()])\n",
    "\n",
    "cov_dense = matern_covariance(dense_points, nu=1.0, length_scale=0.1, sigma=7.0)\n",
    "mean_dense = np.zeros(dense_points.shape[0])\n",
    "gp_sample_dense = np.random.multivariate_normal(mean_dense, cov_dense)\n",
    "gp_surface = gp_sample_dense.reshape(grid_points_dense, grid_points_dense)\n",
    "\n",
    "# Create the GP surface trace.\n",
    "zmin = gp_surface.min()\n",
    "zmax = gp_surface.max()\n",
    "surface_trace = go.Surface(\n",
    "    x=X_dense,\n",
    "    y=Y_dense,\n",
    "    z=gp_surface,\n",
    "    colorscale=[[0, 'red'], [0.5, 'white'], [1, 'blue']],\n",
    "    cmin=zmin,\n",
    "    cmax=zmax,\n",
    "    opacity=1.0,\n",
    "    showscale=False\n",
    ")\n",
    "\n",
    "# 2. Compute the coarse grid for the flat checkerboard.\n",
    "grid_points_coarse = 10\n",
    "x_edges = np.linspace(0, 1, grid_points_coarse + 1)\n",
    "y_edges = np.linspace(0, 1, grid_points_coarse + 1)\n",
    "coarse_colors = []\n",
    "\n",
    "for i in range(grid_points_coarse):\n",
    "    for j in range(grid_points_coarse):\n",
    "        # Get indices of dense grid points falling within the cell.\n",
    "        ix = np.where((x_dense >= x_edges[i]) & (x_dense < x_edges[i+1]))[0]\n",
    "        iy = np.where((y_dense >= y_edges[j]) & (y_dense < y_edges[j+1]))[0]\n",
    "        if i == grid_points_coarse - 1:\n",
    "            ix = np.where((x_dense >= x_edges[i]) & (x_dense <= x_edges[i+1]))[0]\n",
    "        if j == grid_points_coarse - 1:\n",
    "            iy = np.where((y_dense >= y_edges[j]) & (y_dense <= y_edges[j+1]))[0]\n",
    "        cell_values = gp_surface[np.ix_(iy, ix)]\n",
    "        avg_val = np.mean(cell_values)\n",
    "        # Choose color: grey for negative, blue for positive.\n",
    "        if avg_val < 0:\n",
    "            coarse_colors.append(\"rgb(128,128,128)\")\n",
    "        else:\n",
    "            coarse_colors.append(\"rgb(0,0,255)\")\n",
    "\n",
    "# 3. Create a flat checkerboard by adding a Mesh3d trace per cell.\n",
    "checkerboard_traces = []\n",
    "# For each cell, define its four corners at z=0.\n",
    "for idx, (i, j) in enumerate([(i, j) for i in range(grid_points_coarse) for j in range(grid_points_coarse)]):\n",
    "    x_cell = [x_edges[i], x_edges[i+1], x_edges[i+1], x_edges[i]]\n",
    "    y_cell = [y_edges[j], y_edges[j], y_edges[j+1], y_edges[j+1]]\n",
    "    z_cell = [0, 0, 0, 0]\n",
    "    # Split the quadrilateral into two triangles.\n",
    "    mesh_trace = go.Mesh3d(\n",
    "        x=x_cell,\n",
    "        y=y_cell,\n",
    "        z=z_cell,\n",
    "        i=[0, 0],\n",
    "        j=[1, 2],\n",
    "        k=[2, 3],\n",
    "        color=coarse_colors[idx],\n",
    "        opacity=0.8,\n",
    "        flatshading=True,\n",
    "        showscale=False\n",
    "    )\n",
    "    checkerboard_traces.append(mesh_trace)\n",
    "\n",
    "# 4. Create the figure with the GP surface and the checkerboard traces.\n",
    "fig = go.Figure(data=[surface_trace] + checkerboard_traces)\n",
    "\n",
    "# 5. Update layout to zoom in and remove the legend.\n",
    "# Here we adjust the camera and axis ranges for a closer view.\n",
    "fig.update_layout(\n",
    "    showlegend=False,\n",
    "    width=1500,\n",
    "    height=1500,     \n",
    "    scene=dict(\n",
    "        xaxis=dict(range=[-1, 1], title=\"\", backgroundcolor=\"white\" , showticklabels=False, gridcolor=\"gray\"),   \n",
    "        yaxis=dict(range=[-1, 1], title=\"\", backgroundcolor=\"white\" , showticklabels=False, gridcolor=\"gray\"),\n",
    "        zaxis=dict(range=[zmin-2, zmax+0.1], title=\"\",backgroundcolor=\"white\" , showticklabels=False, gridcolor=\"gray\"),\n",
    "        camera=dict(\n",
    "            eye=dict(x=1.0, y=1.1, z=0.8),\n",
    "            center=dict(x=0, y=0, z=0)\n",
    "        )\n",
    "    )\n",
    ")\n",
    "fig.update_yaxes(automargin=True)\n",
    "fig.update_xaxes(automargin=True)\n",
    "# 6. Save the figure to a PDF file.\n",
    "fig.write_image(\"gp_surface.pdf\", width=1200, height=1200)\n",
    "\n",
    "# And display the figure in your interactive environment.\n",
    "fig.show()"
   ]
  },
  {
   "cell_type": "code",
   "execution_count": 23,
   "metadata": {},
   "outputs": [
    {
     "data": {
      "image/png": "[encoded data removed]",
      "text/plain": [
       "<Figure size 600x600 with 2 Axes>"
      ]
     },
     "metadata": {},
     "output_type": "display_data"
    }
   ],
   "source": [
    "import numpy as np\n",
    "import matplotlib.pyplot as plt\n",
    "\n",
    "# Assuming these variables are already defined:\n",
    "# gp_surface: 2D array of the GP simulation (shape: grid_points_dense x grid_points_dense)\n",
    "# x_dense: 1D array of x coordinates for the dense grid\n",
    "# y_dense: 1D array of y coordinates for the dense grid\n",
    "\n",
    "grid_points_coarse = 10\n",
    "x_edges = np.linspace(0, 1, grid_points_coarse + 1)\n",
    "y_edges = np.linspace(0, 1, grid_points_coarse + 1)\n",
    "\n",
    "# Create an empty checkerboard array (shape: 10 x 10)\n",
    "checkerboard = np.zeros((grid_points_coarse, grid_points_coarse))\n",
    "\n",
    "for i in range(grid_points_coarse):\n",
    "    for j in range(grid_points_coarse):\n",
    "        # Identify indices of the dense grid within the current cell.\n",
    "        ix = np.where((x_dense >= x_edges[i]) & (x_dense < x_edges[i+1]))[0]\n",
    "        iy = np.where((y_dense >= y_edges[j]) & (y_dense < y_edges[j+1]))[0]\n",
    "        # For the last cell, include the endpoint.\n",
    "        if i == grid_points_coarse - 1:\n",
    "            ix = np.where((x_dense >= x_edges[i]) & (x_dense <= x_edges[i+1]))[0]\n",
    "        if j == grid_points_coarse - 1:\n",
    "            iy = np.where((y_dense >= y_edges[j]) & (y_dense <= y_edges[j+1]))[0]\n",
    "        cell_values = gp_surface[np.ix_(iy, ix)]\n",
    "        avg_val = np.mean(cell_values)\n",
    "        # Assign the average value directly (assume values are probabilities in [0,1])\n",
    "        checkerboard[j, i] = avg_val\n",
    "\n",
    "# Use a continuous colormap from white (0) to black (1)\n",
    "cmap = plt.get_cmap(\"Greys\")\n",
    "\n",
    "plt.figure(figsize=(6,6))\n",
    "mesh = plt.pcolormesh(x_edges, y_edges, checkerboard, cmap=cmap, edgecolors='k', linewidth=2, vmin=0, vmax=1)\n",
    "plt.gca().set_aspect('equal')\n",
    "plt.xlabel(\"x\")\n",
    "plt.ylabel(\"y\")\n",
    "plt.colorbar(mesh, label=\"Probability\")\n",
    "plt.savefig(\"checkerboard_plot.pdf\", dpi=300)\n",
    "plt.show()"
   ]
  }
 ],
 "metadata": {
  "kernelspec": {
   "display_name": "polypharm",
   "language": "python",
   "name": "python3"
  },
  "language_info": {
   "codemirror_mode": {
    "name": "ipython",
    "version": 3
   },
   "file_extension": ".py",
   "mimetype": "text/x-python",
   "name": "python",
   "nbconvert_exporter": "python",
   "pygments_lexer": "ipython3",
   "version": "3.13.5"
  }
 },
 "nbformat": 4,
 "nbformat_minor": 2
}
